{
 "cells": [
  {
   "cell_type": "markdown",
   "id": "b3afa92f-b029-4749-9d1f-c8dcc4151ef1",
   "metadata": {},
   "source": [
    "# Global Settings"
   ]
  },
  {
   "cell_type": "code",
   "execution_count": 94,
   "id": "e4f0df33-4298-4aca-a570-6d5b2f3118c0",
   "metadata": {},
   "outputs": [],
   "source": [
    "%pwd\n",
    "GLOBALTEST = False"
   ]
  },
  {
   "cell_type": "code",
   "execution_count": 106,
   "id": "bdbb26a0-1138-4dc0-ae6b-104a01471bde",
   "metadata": {},
   "outputs": [],
   "source": [
    "import numpy as np\n",
    "import torch\n",
    "import torch.nn as nn\n",
    "import matplotlib.pyplot as plt\n",
    "import torch.nn.functional as F\n",
    "import time\n",
    "import torch.optim as optim\n",
    "\n",
    "from torch.utils import data\n",
    "\n",
    "%matplotlib inline"
   ]
  },
  {
   "cell_type": "code",
   "execution_count": 88,
   "id": "09210502-6c1f-4c6f-a487-5e5f257df861",
   "metadata": {},
   "outputs": [
    {
     "name": "stdout",
     "output_type": "stream",
     "text": [
      "No cuda available\n"
     ]
    }
   ],
   "source": [
    "cuda = torch.cuda.is_available()\n",
    "if cuda: print(\"Using cuda!!\") \n",
    "else: print(\"No cuda available\")"
   ]
  },
  {
   "cell_type": "markdown",
   "id": "1e0f53ff-5c8c-41dd-8c5b-06f22934b46f",
   "metadata": {},
   "source": [
    "# Loading Data"
   ]
  },
  {
   "cell_type": "code",
   "execution_count": 11,
   "id": "615ffa74-86fa-4ddc-a9d0-be35cbf53528",
   "metadata": {},
   "outputs": [],
   "source": [
    "train_data = np.load(\"Data/toy_train_data.npy\", allow_pickle=True)\n",
    "train_label = np.load(\"Data/toy_train_label.npy\", allow_pickle=True)\n",
    "test_data = np.load(\"Data/toy_test_data.npy\", allow_pickle=True)\n",
    "test_label = np.load(\"Data/toy_test_label.npy\", allow_pickle=True)"
   ]
  },
  {
   "cell_type": "code",
   "execution_count": 15,
   "id": "577277e5-074d-4834-bdfa-334ea6cb3ad7",
   "metadata": {},
   "outputs": [
    {
     "name": "stdout",
     "output_type": "stream",
     "text": [
      "(1000,)\n",
      "(1184, 40)\n"
     ]
    }
   ],
   "source": [
    "print(train_data.shape)\n",
    "print(train_data[0].shape)"
   ]
  },
  {
   "cell_type": "code",
   "execution_count": 14,
   "id": "ebb1185c-7c11-4b39-93fd-e8e1cf9cf97f",
   "metadata": {},
   "outputs": [
    {
     "name": "stdout",
     "output_type": "stream",
     "text": [
      "(1000,)\n",
      "(1184,)\n"
     ]
    }
   ],
   "source": [
    "print(train_label.shape)\n",
    "print(train_label[0].shape)"
   ]
  },
  {
   "cell_type": "markdown",
   "id": "dc64c1d0-b512-4bb3-9e32-01352c41238b",
   "metadata": {},
   "source": [
    "## Dataset"
   ]
  },
  {
   "cell_type": "code",
   "execution_count": 91,
   "id": "6f627f37-1f75-4a59-b99d-12374b1cb64c",
   "metadata": {},
   "outputs": [],
   "source": [
    "class MyDataset(data.Dataset):\n",
    "    def __init__(self, data, label, context_size = 1):\n",
    "        # data and label nparrays directly loaded from files\n",
    "        N = len(data)\n",
    "        X = []\n",
    "        Y = []\n",
    "        locator = []\n",
    "        ctr = 0\n",
    "        for i in range(N):\n",
    "            xi = torch.from_numpy(data[i]).float()\n",
    "            yi = torch.from_numpy(label[i]).long()\n",
    "            X.append(xi)\n",
    "            Y.append(yi)\n",
    "            li = xi.shape[0]\n",
    "            for j in range(li):\n",
    "                locator.append((i, j)) #ith piece, jth time frame\n",
    "                ctr += 1\n",
    "        \n",
    "        self.X = X\n",
    "        self.Y = Y\n",
    "        self.locator = locator\n",
    "        self.context_size = context_size\n",
    "\n",
    "    def __len__(self):\n",
    "        return len(self.locator)\n",
    "\n",
    "    def __getitem__(self,index):\n",
    "        i, j = self.locator[index]\n",
    "        left = j - self.context_size\n",
    "        right = j + self.context_size # both sides inclusive\n",
    "        if GLOBALTEST: print(left, right) \n",
    "        X = self.X[i][j:j+1]\n",
    "        if left < 0:\n",
    "            XL = self.X[i][:j]\n",
    "            if GLOBALTEST: print(XL.shape) \n",
    "            XL = F.pad(input=XL, pad=(0, 0, self.context_size-XL.shape[0], 0), mode='constant', value=0)\n",
    "        else:\n",
    "            XL = self.X[i][left:j]\n",
    "        \n",
    "        if right >= self.X[i].shape[0]:\n",
    "            \n",
    "            XR = self.X[i][j+1:]\n",
    "            XR = F.pad(input=XR, pad=(0, 0, 0, self.context_size-XR.shape[0]), mode='constant', value=0)\n",
    "        else:\n",
    "            XR = self.X[i][j+1:right+1]\n",
    "        \n",
    "        if GLOBALTEST:\n",
    "            print(\"XL shape:\", XL.shape)\n",
    "            print(\"X shape:\", X.shape)\n",
    "            print(\"XR shape:\", XR.shape)\n",
    "        \n",
    "        X = torch.cat((XL,X,XR), 0).reshape(-1)\n",
    "        Y = self.Y[i][j]\n",
    "        \n",
    "        return X,Y"
   ]
  },
  {
   "cell_type": "markdown",
   "id": "e36dbbf0-cefb-48c3-a38b-beb6bb587854",
   "metadata": {},
   "source": [
    "## Dataloader"
   ]
  },
  {
   "cell_type": "code",
   "execution_count": 98,
   "id": "3708102b-4b63-45a2-ae93-ba76eee3a9c3",
   "metadata": {},
   "outputs": [],
   "source": [
    "num_workers = 8 if cuda else 0 \n",
    "\n",
    "# Training\n",
    "train_dataset = MyDataset(train_data, train_label)\n",
    "\n",
    "train_loader_args = dict(shuffle=True, batch_size=256, num_workers=num_workers, pin_memory=True) if cuda\\\n",
    "                    else dict(shuffle=True, batch_size=64)\n",
    "train_loader = data.DataLoader(train_dataset, **train_loader_args)\n",
    "\n",
    "# Testing\n",
    "test_dataset = MyDataset(test_data, test_label)\n",
    "\n",
    "test_loader_args = dict(shuffle=False, batch_size=256, num_workers=num_workers, pin_memory=True) if cuda\\\n",
    "                    else dict(shuffle=False, batch_size=1)\n",
    "test_loader = data.DataLoader(test_dataset, **test_loader_args)"
   ]
  },
  {
   "cell_type": "markdown",
   "id": "2d86869f-aabc-4595-b3ca-af9fc418a582",
   "metadata": {
    "tags": []
   },
   "source": [
    "# Model and Loss Function"
   ]
  },
  {
   "cell_type": "code",
   "execution_count": 99,
   "id": "c6e469cc-6e0e-40c5-acfd-757cc59f2928",
   "metadata": {},
   "outputs": [],
   "source": [
    "class Simple_MLP(nn.Module):\n",
    "    def __init__(self, size_list):\n",
    "        super(Simple_MLP, self).__init__()\n",
    "        layers = []\n",
    "        self.size_list = size_list\n",
    "        for i in range(len(size_list) - 2):\n",
    "            layers.append(nn.Linear(size_list[i],size_list[i+1]))\n",
    "            layers.append(nn.ReLU())\n",
    "        layers.append(nn.Linear(size_list[-2], size_list[-1]))\n",
    "        self.net = nn.Sequential(*layers)\n",
    "\n",
    "    def forward(self, x):\n",
    "        return self.net(x)"
   ]
  },
  {
   "cell_type": "code",
   "execution_count": 111,
   "id": "ee97440d-63c0-4d94-a71e-b4042f75cc8c",
   "metadata": {},
   "outputs": [
    {
     "name": "stdout",
     "output_type": "stream",
     "text": [
      "Simple_MLP(\n",
      "  (net): Sequential(\n",
      "    (0): Linear(in_features=120, out_features=256, bias=True)\n",
      "    (1): ReLU()\n",
      "    (2): Linear(in_features=256, out_features=128, bias=True)\n",
      "    (3): ReLU()\n",
      "    (4): Linear(in_features=128, out_features=71, bias=True)\n",
      "  )\n",
      ")\n"
     ]
    }
   ],
   "source": [
    "model = Simple_MLP([40*3, 256, 128, 71])\n",
    "criterion = nn.CrossEntropyLoss()\n",
    "optimizer = optim.Adam(model.parameters())\n",
    "device = torch.device(\"cuda\" if cuda else \"cpu\")\n",
    "model.to(device)\n",
    "print(model)"
   ]
  },
  {
   "cell_type": "markdown",
   "id": "66e7ae8f-59b9-4507-9433-a3914d487a77",
   "metadata": {},
   "source": [
    "# Training Procedure"
   ]
  },
  {
   "cell_type": "code",
   "execution_count": 112,
   "id": "3e018de2-8cc1-4b40-ad83-a407fb5c2204",
   "metadata": {},
   "outputs": [],
   "source": [
    "def train_epoch(model, train_loader, criterion, optimizer):\n",
    "    model.train()\n",
    "\n",
    "    running_loss = 0.0\n",
    "    \n",
    "    start_time = time.time()\n",
    "    for batch_idx, (data, target) in enumerate(train_loader):   \n",
    "        optimizer.zero_grad()   # .backward() accumulates gradients\n",
    "        data = data.to(device)\n",
    "        target = target.to(device) # all data & model on same device\n",
    "\n",
    "        outputs = model(data)\n",
    "        loss = criterion(outputs, target)\n",
    "        running_loss += loss.item()\n",
    "\n",
    "        loss.backward()\n",
    "        optimizer.step()\n",
    "    \n",
    "    end_time = time.time()\n",
    "    \n",
    "    running_loss /= len(train_loader)\n",
    "    print('Training Loss: ', running_loss, 'Time: ',end_time - start_time, 's')\n",
    "    return running_loss"
   ]
  },
  {
   "cell_type": "code",
   "execution_count": 113,
   "id": "bf70a7a2-3f8d-4df6-872a-770f1784ce7a",
   "metadata": {},
   "outputs": [],
   "source": [
    "def test_model(model, test_loader, criterion):\n",
    "    with torch.no_grad():\n",
    "        model.eval()\n",
    "\n",
    "        running_loss = 0.0\n",
    "        total_predictions = 0.0\n",
    "        correct_predictions = 0.0\n",
    "\n",
    "        for batch_idx, (data, target) in enumerate(test_loader):   \n",
    "            data = data.to(device)\n",
    "            target = target.to(device)\n",
    "\n",
    "            outputs = model(data)\n",
    "\n",
    "            _, predicted = torch.max(outputs.data, 1)\n",
    "            total_predictions += target.size(0)\n",
    "            correct_predictions += (predicted == target).sum().item()\n",
    "\n",
    "            loss = criterion(outputs, target).detach()\n",
    "            running_loss += loss.item()\n",
    "\n",
    "\n",
    "        running_loss /= len(test_loader)\n",
    "        acc = (correct_predictions/total_predictions)*100.0\n",
    "        print('Testing Loss: ', running_loss)\n",
    "        print('Testing Accuracy: ', acc, '%')\n",
    "        return running_loss, acc"
   ]
  },
  {
   "cell_type": "markdown",
   "id": "60f93238-1f1d-455f-8c61-2cd1d8f581ef",
   "metadata": {},
   "source": [
    "## Training"
   ]
  },
  {
   "cell_type": "code",
   "execution_count": 114,
   "id": "95651bbc-1eca-4ac7-8bef-fd68d71acd9e",
   "metadata": {},
   "outputs": [
    {
     "name": "stdout",
     "output_type": "stream",
     "text": [
      "Training Loss:  1.7692612862019592 Time:  53.129146099090576 s\n",
      "Testing Loss:  1.8430810983465715\n",
      "Testing Accuracy:  49.65706447187929 %\n",
      "====================\n",
      "Training Loss:  1.6347281314059539 Time:  52.68295502662659 s\n",
      "Testing Loss:  1.7547693066869055\n",
      "Testing Accuracy:  51.09739368998628 %\n",
      "====================\n",
      "Training Loss:  1.6061985282509057 Time:  53.435256004333496 s\n",
      "Testing Loss:  1.6922984012724178\n",
      "Testing Accuracy:  54.11522633744856 %\n",
      "====================\n",
      "Training Loss:  1.5922497801840985 Time:  54.3983428478241 s\n",
      "Testing Loss:  1.829222318579132\n",
      "Testing Accuracy:  50.48010973936899 %\n",
      "====================\n",
      "Training Loss:  1.5842128671096232 Time:  52.57500100135803 s\n",
      "Testing Loss:  1.8192677649417275\n",
      "Testing Accuracy:  49.72565157750343 %\n",
      "====================\n",
      "Training Loss:  1.5785860865022738 Time:  52.39488172531128 s\n",
      "Testing Loss:  1.8902139626319638\n",
      "Testing Accuracy:  47.668038408779154 %\n",
      "====================\n",
      "Training Loss:  1.5758323762224167 Time:  52.181087017059326 s\n",
      "Testing Loss:  1.8416147492651722\n",
      "Testing Accuracy:  49.862825788751714 %\n",
      "====================\n",
      "Training Loss:  1.5738293256302192 Time:  53.43510317802429 s\n",
      "Testing Loss:  1.7748376226784615\n",
      "Testing Accuracy:  50.75445816186557 %\n",
      "====================\n",
      "Training Loss:  1.5733883659054753 Time:  51.671486139297485 s\n",
      "Testing Loss:  1.7893544879197174\n",
      "Testing Accuracy:  51.028806584362144 %\n",
      "====================\n",
      "Training Loss:  1.5727104720084693 Time:  51.3435959815979 s\n",
      "Testing Loss:  1.7312601683875488\n",
      "Testing Accuracy:  52.19478737997256 %\n",
      "====================\n"
     ]
    }
   ],
   "source": [
    "n_epochs = 10\n",
    "save = True\n",
    "Train_loss = []\n",
    "Test_loss = []\n",
    "Test_acc = []\n",
    "\n",
    "for i in range(n_epochs):\n",
    "    train_loss = train_epoch(model, train_loader, criterion, optimizer)\n",
    "    test_loss, test_acc = test_model(model, test_loader, criterion)\n",
    "    Train_loss.append(train_loss)\n",
    "    Test_loss.append(test_loss)\n",
    "    Test_acc.append(test_acc)\n",
    "    if save:\n",
    "        torch.save(model.state_dict(), \"checkpoint.pth\")\n",
    "    print('='*20)"
   ]
  },
  {
   "cell_type": "markdown",
   "id": "5990f290-db3d-474b-9786-7a7bc2204217",
   "metadata": {},
   "source": [
    "## Result Visualization"
   ]
  },
  {
   "cell_type": "code",
   "execution_count": 115,
   "id": "3617de4d-cdf9-4d65-83ce-d77723734bfe",
   "metadata": {},
   "outputs": [
    {
     "data": {
      "text/plain": [
       "[<matplotlib.lines.Line2D at 0x7fdf0de1f040>]"
      ]
     },
     "execution_count": 115,
     "metadata": {},
     "output_type": "execute_result"
    },
    {
     "data": {
      "image/png": "[encoded data removed]",
      "text/plain": [
       "<Figure size 432x288 with 1 Axes>"
      ]
     },
     "metadata": {
      "needs_background": "light"
     },
     "output_type": "display_data"
    }
   ],
   "source": [
    "plt.title('Training Loss')\n",
    "plt.xlabel('Epoch Number')\n",
    "plt.ylabel('Loss')\n",
    "plt.plot(Train_loss)"
   ]
  },
  {
   "cell_type": "code",
   "execution_count": 116,
   "id": "3d67b3f3-7fd3-49df-ab43-7a751442d9fd",
   "metadata": {},
   "outputs": [
    {
     "data": {
      "text/plain": [
       "[<matplotlib.lines.Line2D at 0x7fdf1a45c220>]"
      ]
     },
     "execution_count": 116,
     "metadata": {},
     "output_type": "execute_result"
    },
    {
     "data": {
      "image/png": "[encoded data removed]",
      "text/plain": [
       "<Figure size 432x288 with 1 Axes>"
      ]
     },
     "metadata": {
      "needs_background": "light"
     },
     "output_type": "display_data"
    }
   ],
   "source": [
    "plt.title('Test Loss')\n",
    "plt.xlabel('Epoch Number')\n",
    "plt.ylabel('Loss')\n",
    "plt.plot(Test_loss)"
   ]
  },
  {
   "cell_type": "code",
   "execution_count": 117,
   "id": "78443df9-83a8-4bf1-b1f0-99d029258539",
   "metadata": {},
   "outputs": [
    {
     "data": {
      "text/plain": [
       "[<matplotlib.lines.Line2D at 0x7fdedafe58b0>]"
      ]
     },
     "execution_count": 117,
     "metadata": {},
     "output_type": "execute_result"
    },
    {
     "data": {
      "image/png": "[encoded data removed]",
      "text/plain": [
       "<Figure size 432x288 with 1 Axes>"
      ]
     },
     "metadata": {
      "needs_background": "light"
     },
     "output_type": "display_data"
    }
   ],
   "source": [
    "plt.title('Test Accuracy')\n",
    "plt.xlabel('Epoch Number')\n",
    "plt.ylabel('Accuracy (%)')\n",
    "plt.plot(Test_acc)"
   ]
  },
  {
   "cell_type": "code",
   "execution_count": null,
   "id": "4c33a680-9191-4841-953d-1e32136f3b68",
   "metadata": {},
   "outputs": [],
   "source": []
  },
  {
   "cell_type": "code",
   "execution_count": null,
   "id": "68adaa9a-7e98-454f-9b21-3ad321fd4dd0",
   "metadata": {},
   "outputs": [],
   "source": []
  }
 ],
 "metadata": {
  "kernelspec": {
   "display_name": "Python 3 (ipykernel)",
   "language": "python",
   "name": "python3"
  },
  "language_info": {
   "codemirror_mode": {
    "name": "ipython",
    "version": 3
   },
   "file_extension": ".py",
   "mimetype": "text/x-python",
   "name": "python",
   "nbconvert_exporter": "python",
   "pygments_lexer": "ipython3",
   "version": "3.9.7"
  },
  "toc-autonumbering": true
 },
 "nbformat": 4,
 "nbformat_minor": 5
}
