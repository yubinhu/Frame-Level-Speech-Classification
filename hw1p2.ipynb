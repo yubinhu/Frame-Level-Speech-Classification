{
 "cells": [
  {
   "cell_type": "code",
   "execution_count": 1,
   "id": "e01f84b9-9c40-4a26-98ae-744d77d546f4",
   "metadata": {},
   "outputs": [],
   "source": [
    "# !pip install kaggle"
   ]
  },
  {
   "cell_type": "code",
   "execution_count": 2,
   "id": "41feb602-1404-44fd-97eb-034f877337ad",
   "metadata": {},
   "outputs": [],
   "source": [
    "# !mkdir ~/.kaggle"
   ]
  },
  {
   "cell_type": "code",
   "execution_count": 3,
   "id": "5a33daa1-8862-4e0c-9963-921619db6e75",
   "metadata": {},
   "outputs": [
    {
     "name": "stderr",
     "output_type": "stream",
     "text": [
      "'pwd' is not recognized as an internal or external command,\n",
      "operable program or batch file.\n"
     ]
    }
   ],
   "source": [
    "!pwd"
   ]
  },
  {
   "cell_type": "code",
   "execution_count": 4,
   "id": "5b626017-0323-484e-b383-2b650470cb22",
   "metadata": {},
   "outputs": [],
   "source": [
    "# !kaggle competitions download -c idl-fall2021-hw1p2"
   ]
  },
  {
   "cell_type": "code",
   "execution_count": 5,
   "id": "658cb366-16dd-4bda-be2e-3c27284ee6b9",
   "metadata": {},
   "outputs": [],
   "source": [
    "# !unzip idl-fall2021-hw1p2.zip -d Data/"
   ]
  },
  {
   "cell_type": "code",
   "execution_count": 6,
   "id": "71a25043-bfea-4ef3-abe4-31793e5ef46d",
   "metadata": {},
   "outputs": [],
   "source": [
    "# !conda install matplotlib"
   ]
  },
  {
   "cell_type": "markdown",
   "id": "b3afa92f-b029-4749-9d1f-c8dcc4151ef1",
   "metadata": {},
   "source": [
    "# Global Settings"
   ]
  },
  {
   "cell_type": "code",
   "execution_count": 134,
   "id": "e4f0df33-4298-4aca-a570-6d5b2f3118c0",
   "metadata": {},
   "outputs": [],
   "source": [
    "GLOBALTEST = False\n",
    "TOY = True # TOY mode use smaller dataset\n",
    "TRIALNUM = 4\n",
    "STARTING_EPOCH = 0\n",
    "MODEL_TO_LOAD = \"\""
   ]
  },
  {
   "cell_type": "code",
   "execution_count": 135,
   "id": "bdbb26a0-1138-4dc0-ae6b-104a01471bde",
   "metadata": {},
   "outputs": [],
   "source": [
    "import numpy as np\n",
    "import torch\n",
    "import torch.nn as nn\n",
    "import matplotlib.pyplot as plt\n",
    "import torch.nn.functional as F\n",
    "import time\n",
    "import torch.optim as optim\n",
    "\n",
    "from torch.utils import data\n",
    "\n",
    "%matplotlib inline"
   ]
  },
  {
   "cell_type": "code",
   "execution_count": 136,
   "id": "09210502-6c1f-4c6f-a487-5e5f257df861",
   "metadata": {},
   "outputs": [
    {
     "name": "stdout",
     "output_type": "stream",
     "text": [
      "No cuda available\n"
     ]
    }
   ],
   "source": [
    "cuda = torch.cuda.is_available()\n",
    "if cuda: print(\"Using cuda!!\") \n",
    "else: print(\"No cuda available\")"
   ]
  },
  {
   "cell_type": "markdown",
   "id": "1e0f53ff-5c8c-41dd-8c5b-06f22934b46f",
   "metadata": {},
   "source": [
    "# Loading Data"
   ]
  },
  {
   "cell_type": "code",
   "execution_count": 137,
   "id": "615ffa74-86fa-4ddc-a9d0-be35cbf53528",
   "metadata": {},
   "outputs": [
    {
     "name": "stdout",
     "output_type": "stream",
     "text": [
      "['Data/toy_train_data.npy', 'Data/toy_train_label.npy', 'Data/toy_val_data.npy', 'Data/toy_val_label.npy']\n"
     ]
    }
   ],
   "source": [
    "real_paths = [\"Data/train.npy\", \"Data/train_labels.npy\", \"Data/dev.npy\", \"Data/dev_labels.npy\"]\n",
    "toy_paths = [\"Data/toy_train_data.npy\", \"Data/toy_train_label.npy\", \"Data/toy_val_data.npy\", \"Data/toy_val_label.npy\"]\n",
    "\n",
    "if TOY:\n",
    "    paths = toy_paths\n",
    "else:\n",
    "    paths = real_paths\n",
    "print(paths)\n",
    "train_data = np.load(paths[0], allow_pickle=True)\n",
    "train_label = np.load(paths[1], allow_pickle=True)\n",
    "test_data = np.load(paths[2], allow_pickle=True)\n",
    "test_label = np.load(paths[3], allow_pickle=True)"
   ]
  },
  {
   "cell_type": "code",
   "execution_count": 138,
   "id": "577277e5-074d-4834-bdfa-334ea6cb3ad7",
   "metadata": {},
   "outputs": [
    {
     "name": "stdout",
     "output_type": "stream",
     "text": [
      "(1000,)\n",
      "(1184, 40)\n"
     ]
    }
   ],
   "source": [
    "print(train_data.shape)\n",
    "print(train_data[0].shape)"
   ]
  },
  {
   "cell_type": "code",
   "execution_count": 139,
   "id": "ebb1185c-7c11-4b39-93fd-e8e1cf9cf97f",
   "metadata": {},
   "outputs": [
    {
     "name": "stdout",
     "output_type": "stream",
     "text": [
      "(1000,)\n",
      "(1184,)\n"
     ]
    }
   ],
   "source": [
    "print(train_label.shape)\n",
    "print(train_label[0].shape)"
   ]
  },
  {
   "cell_type": "code",
   "execution_count": 140,
   "id": "524efb86-d1e4-43a3-a4a1-d4401d8519dc",
   "metadata": {},
   "outputs": [],
   "source": [
    "if TOY:\n",
    "    train_data = train_data[:100]\n",
    "    train_label = train_label[:100]\n",
    "    test_data = test_data[:30]\n",
    "    test_label = test_label[:30]"
   ]
  },
  {
   "cell_type": "markdown",
   "id": "dc64c1d0-b512-4bb3-9e32-01352c41238b",
   "metadata": {},
   "source": [
    "## Dataset"
   ]
  },
  {
   "cell_type": "code",
   "execution_count": 141,
   "id": "6f627f37-1f75-4a59-b99d-12374b1cb64c",
   "metadata": {},
   "outputs": [],
   "source": [
    "from dataset import MyDataset"
   ]
  },
  {
   "cell_type": "markdown",
   "id": "e36dbbf0-cefb-48c3-a38b-beb6bb587854",
   "metadata": {},
   "source": [
    "## Dataloader"
   ]
  },
  {
   "cell_type": "code",
   "execution_count": 142,
   "id": "3708102b-4b63-45a2-ae93-ba76eee3a9c3",
   "metadata": {},
   "outputs": [],
   "source": [
    "num_workers = 0 if cuda else 0 \n",
    "context_size = 10\n",
    "\n",
    "# Training\n",
    "train_dataset = MyDataset(train_data, train_label, context_size = context_size)\n",
    "\n",
    "train_loader_args = dict(shuffle=True, batch_size=256, num_workers=num_workers, pin_memory=True) if cuda\\\n",
    "                    else dict(shuffle=True, batch_size=64)\n",
    "train_loader = data.DataLoader(train_dataset, **train_loader_args)\n",
    "\n",
    "# Testing\n",
    "test_dataset = MyDataset(test_data, test_label, context_size = context_size)\n",
    "\n",
    "test_loader_args = dict(shuffle=False, batch_size=256, num_workers=num_workers, pin_memory=True) if cuda\\\n",
    "                    else dict(shuffle=False, batch_size=1)\n",
    "test_loader = data.DataLoader(test_dataset, **test_loader_args)\n",
    "\n",
    "del train_data\n",
    "del test_data\n",
    "del train_label\n",
    "del test_label"
   ]
  },
  {
   "cell_type": "code",
   "execution_count": 143,
   "id": "ebb41f4f",
   "metadata": {},
   "outputs": [
    {
     "name": "stdout",
     "output_type": "stream",
     "text": [
      "134105\n"
     ]
    }
   ],
   "source": [
    "print(len(train_dataset))\n",
    "# print(list(test_loader))"
   ]
  },
  {
   "cell_type": "markdown",
   "id": "2d86869f-aabc-4595-b3ca-af9fc418a582",
   "metadata": {
    "tags": []
   },
   "source": [
    "# Model and Loss Function"
   ]
  },
  {
   "cell_type": "code",
   "execution_count": 144,
   "id": "c6e469cc-6e0e-40c5-acfd-757cc59f2928",
   "metadata": {},
   "outputs": [],
   "source": [
    "class Simple_MLP(nn.Module):\n",
    "    def __init__(self, size_list):\n",
    "        super(Simple_MLP, self).__init__()\n",
    "        layers = []\n",
    "        self.size_list = size_list\n",
    "        for i in range(len(size_list) - 2):\n",
    "            layers.append(nn.Linear(size_list[i],size_list[i+1]))\n",
    "            layers.append(nn.ReLU())\n",
    "        layers.append(nn.Linear(size_list[-2], size_list[-1]))\n",
    "        self.net = nn.Sequential(*layers)\n",
    "        self.softmax = nn.Softmax(dim=-1)\n",
    "\n",
    "    def forward(self, x):\n",
    "        # print(\"x\", x.shape)\n",
    "        y = self.net(x)\n",
    "        # print(\"y\", y.shape)\n",
    "        return self.softmax(y)"
   ]
  },
  {
   "cell_type": "code",
   "execution_count": 145,
   "id": "ee97440d-63c0-4d94-a71e-b4042f75cc8c",
   "metadata": {},
   "outputs": [
    {
     "name": "stdout",
     "output_type": "stream",
     "text": [
      "Simple_MLP(\n",
      "  (net): Sequential(\n",
      "    (0): Linear(in_features=840, out_features=256, bias=True)\n",
      "    (1): ReLU()\n",
      "    (2): Linear(in_features=256, out_features=128, bias=True)\n",
      "    (3): ReLU()\n",
      "    (4): Linear(in_features=128, out_features=71, bias=True)\n",
      "  )\n",
      "  (softmax): Softmax(dim=-1)\n",
      ")\n"
     ]
    }
   ],
   "source": [
    "model = Simple_MLP([40*(2*context_size+1), 256, 128, 71])\n",
    "criterion = nn.CrossEntropyLoss()\n",
    "optimizer = optim.Adam(model.parameters(), lr = 2e-4)\n",
    "device = torch.device(\"cuda\" if cuda else \"cpu\")\n",
    "model.to(device)\n",
    "print(model)"
   ]
  },
  {
   "cell_type": "code",
   "execution_count": 146,
   "id": "1edb16c4-7d2d-4585-bbf7-809f52de56ca",
   "metadata": {},
   "outputs": [],
   "source": [
    "# testinput = torch.rand(32, 40*(2*context_size+1)).to(device)\n",
    "# testoutput = model.forward(testinput)\n",
    "# print(testoutput)\n",
    "# print(sum(testoutput[0])) \n",
    "# print(testoutput[0].shape)"
   ]
  },
  {
   "cell_type": "markdown",
   "id": "66e7ae8f-59b9-4507-9433-a3914d487a77",
   "metadata": {},
   "source": [
    "# Training Procedure"
   ]
  },
  {
   "cell_type": "code",
   "execution_count": 147,
   "id": "3e018de2-8cc1-4b40-ad83-a407fb5c2204",
   "metadata": {},
   "outputs": [],
   "source": [
    "def train_epoch(model, train_loader, criterion, optimizer):\n",
    "    model.train()\n",
    "\n",
    "    running_loss = 0.0\n",
    "    \n",
    "    start_time = time.time()\n",
    "    for batch_idx, (data, target) in enumerate(train_loader):   \n",
    "        optimizer.zero_grad()   # .backward() accumulates gradients\n",
    "        data = data.to(device)\n",
    "        target = target.to(device) # all data & model on same device\n",
    "\n",
    "        outputs = model(data)\n",
    "        loss = criterion(outputs, target)\n",
    "        running_loss += loss.item()\n",
    "\n",
    "        loss.backward()\n",
    "        optimizer.step()\n",
    "    \n",
    "    end_time = time.time()\n",
    "    \n",
    "    running_loss /= len(train_loader)\n",
    "    print('Training Loss: ', running_loss, 'Time: ',end_time - start_time, 's')\n",
    "    return running_loss"
   ]
  },
  {
   "cell_type": "code",
   "execution_count": 148,
   "id": "bf70a7a2-3f8d-4df6-872a-770f1784ce7a",
   "metadata": {},
   "outputs": [],
   "source": [
    "def test_model(model, test_loader, criterion):\n",
    "    with torch.no_grad():\n",
    "        model.eval()\n",
    "\n",
    "        running_loss = 0.0\n",
    "        total_predictions = 0.0\n",
    "        correct_predictions = 0.0\n",
    "\n",
    "        for batch_idx, (data, target) in enumerate(test_loader):   \n",
    "            data = data.to(device)\n",
    "            target = target.to(device)\n",
    "\n",
    "            outputs = model(data)\n",
    "\n",
    "            _, predicted = torch.max(outputs.data, 1)\n",
    "            total_predictions += target.size(0)\n",
    "            correct_predictions += (predicted == target).sum().item()\n",
    "\n",
    "            loss = criterion(outputs, target).detach()\n",
    "            running_loss += loss.item()\n",
    "\n",
    "\n",
    "        running_loss /= len(test_loader)\n",
    "        acc = (correct_predictions/total_predictions)*100.0\n",
    "        print('Testing Loss: ', running_loss)\n",
    "        print('Testing Accuracy: ', acc, '%')\n",
    "        return running_loss, acc"
   ]
  },
  {
   "cell_type": "code",
   "execution_count": 149,
   "id": "fe3fc13e-be68-49b7-9548-e90cd0ac0832",
   "metadata": {},
   "outputs": [],
   "source": [
    "def save_model(model, epoch, loaded_model):\n",
    "    folder = \"Models/\"\n",
    "    if TOY:\n",
    "        folder += \"Toy/\"\n",
    "        torch.save(model.state_dict(), folder+\"ToyTrial\"+str(TRIALNUM)+\"Epoch\"+str(STARTING_EPOCH + epoch)+\".pth\")\n",
    "    else:\n",
    "        torch.save(model.state_dict(), folder+\"Trial\"+str(TRIALNUM)+\"Epoch\"+str(STARTING_EPOCH + epoch)+\".pth\")\n",
    "def load_model(model, filename):\n",
    "    if not filename:\n",
    "        return\n",
    "    state_dict = torch.load(\"Models/\"+filename, map_location=torch.device(device))\n",
    "    model.load_state_dict(state_dict)"
   ]
  },
  {
   "cell_type": "markdown",
   "id": "60f93238-1f1d-455f-8c61-2cd1d8f581ef",
   "metadata": {},
   "source": [
    "## Training"
   ]
  },
  {
   "cell_type": "code",
   "execution_count": 150,
   "id": "95651bbc-1eca-4ac7-8bef-fd68d71acd9e",
   "metadata": {},
   "outputs": [
    {
     "name": "stdout",
     "output_type": "stream",
     "text": [
      "Training Loss:  4.076867174669986 Time:  10.198328733444214 s\n",
      "Testing Loss:  4.084522799042697\n",
      "Testing Accuracy:  20.205883060345865 %\n",
      "====================\n",
      "Training Loss:  4.006042670657616 Time:  10.096734762191772 s\n",
      "Testing Loss:  4.048118983850274\n",
      "Testing Accuracy:  23.76313827356471 %\n",
      "====================\n",
      "Training Loss:  3.9300887063714383 Time:  10.211688041687012 s\n",
      "Testing Loss:  4.028250005099154\n",
      "Testing Accuracy:  25.88209827548885 %\n",
      "====================\n",
      "Training Loss:  3.9146701459211246 Time:  10.2035813331604 s\n",
      "Testing Loss:  4.037654517306323\n",
      "Testing Accuracy:  24.847872621882292 %\n",
      "====================\n",
      "Training Loss:  3.895058386198437 Time:  10.1077880859375 s\n",
      "Testing Loss:  4.019069672949768\n",
      "Testing Accuracy:  26.687832214926523 %\n",
      "====================\n",
      "Training Loss:  3.881747005550006 Time:  10.206326961517334 s\n",
      "Testing Loss:  4.014255658984485\n",
      "Testing Accuracy:  27.188108810159463 %\n",
      "====================\n",
      "Training Loss:  3.8734196326659838 Time:  9.962157964706421 s\n",
      "Testing Loss:  4.02263732179779\n",
      "Testing Accuracy:  26.360728287274217 %\n",
      "====================\n",
      "Training Loss:  3.865171265738611 Time:  10.354842901229858 s\n",
      "Testing Loss:  4.007352973279589\n",
      "Testing Accuracy:  27.878394304543374 %\n",
      "====================\n",
      "Training Loss:  3.8610714964056743 Time:  10.28424882888794 s\n",
      "Testing Loss:  4.01447591743884\n",
      "Testing Accuracy:  27.236212328931863 %\n",
      "====================\n",
      "Training Loss:  3.8401808052800086 Time:  10.132601022720337 s\n",
      "Testing Loss:  3.992570802688736\n",
      "Testing Accuracy:  29.372008562426345 %\n",
      "====================\n",
      "Training Loss:  3.8310807445122084 Time:  10.247004985809326 s\n",
      "Testing Loss:  3.981377720692332\n",
      "Testing Accuracy:  30.492820549823218 %\n",
      "====================\n",
      "Training Loss:  3.8268349334483838 Time:  10.161171913146973 s\n",
      "Testing Loss:  3.997427079086768\n",
      "Testing Accuracy:  28.85489573562306 %\n",
      "====================\n",
      "Training Loss:  3.823856369457172 Time:  10.218089818954468 s\n",
      "Testing Loss:  3.9922779200038465\n",
      "Testing Accuracy:  29.400870673689784 %\n",
      "====================\n",
      "Training Loss:  3.82167669072861 Time:  10.221631050109863 s\n",
      "Testing Loss:  3.9855794977779944\n",
      "Testing Accuracy:  30.079130288380597 %\n",
      "====================\n",
      "Training Loss:  3.820653297973953 Time:  10.39195203781128 s\n",
      "Testing Loss:  3.9851794447003037\n",
      "Testing Accuracy:  30.093561344012315 %\n",
      "====================\n",
      "Training Loss:  3.8183469922487974 Time:  10.189913988113403 s\n",
      "Testing Loss:  3.9882091412907927\n",
      "Testing Accuracy:  29.87950068547514 %\n",
      "====================\n",
      "Training Loss:  3.8173899965659355 Time:  10.204646825790405 s\n",
      "Testing Loss:  3.9865055055384553\n",
      "Testing Accuracy:  29.97330254708132 %\n",
      "====================\n",
      "Training Loss:  3.803530013856997 Time:  10.243243932723999 s\n",
      "Testing Loss:  3.9934318343875734\n",
      "Testing Accuracy:  29.273396348942924 %\n",
      "====================\n",
      "Training Loss:  3.792308955133416 Time:  10.33971881866455 s\n",
      "Testing Loss:  3.9935755590157673\n",
      "Testing Accuracy:  29.2950429323905 %\n",
      "====================\n",
      "Training Loss:  3.782951851268761 Time:  9.954455852508545 s\n",
      "Testing Loss:  3.9918718108407867\n",
      "Testing Accuracy:  29.41049137744426 %\n",
      "====================\n",
      "Training Loss:  3.7762371240226367 Time:  10.292637348175049 s\n",
      "Testing Loss:  4.001538498352269\n",
      "Testing Accuracy:  28.458041705750777 %\n",
      "====================\n",
      "Training Loss:  3.7727379992263006 Time:  10.33666706085205 s\n",
      "Testing Loss:  4.002063679833328\n",
      "Testing Accuracy:  28.429179594487337 %\n",
      "====================\n",
      "Training Loss:  3.7681513241001667 Time:  10.223478078842163 s\n",
      "Testing Loss:  3.9978012906572338\n",
      "Testing Accuracy:  28.82603362435962 %\n",
      "====================\n",
      "Training Loss:  3.7654946006208885 Time:  10.172668933868408 s\n",
      "Testing Loss:  4.006034498151414\n",
      "Testing Accuracy:  27.989032397719892 %\n",
      "====================\n",
      "Training Loss:  3.7641418602402883 Time:  10.190639972686768 s\n",
      "Testing Loss:  3.9972916272856542\n",
      "Testing Accuracy:  28.87894749500926 %\n",
      "====================\n",
      "Training Loss:  3.762040109807298 Time:  10.239059925079346 s\n",
      "Testing Loss:  4.003056052065023\n",
      "Testing Accuracy:  28.373860547899078 %\n",
      "====================\n",
      "Training Loss:  3.760762268122826 Time:  10.306275129318237 s\n",
      "Testing Loss:  4.011346695992379\n",
      "Testing Accuracy:  27.457488515284894 %\n",
      "====================\n",
      "Training Loss:  3.759072701212104 Time:  9.984797954559326 s\n",
      "Testing Loss:  4.006720841812601\n",
      "Testing Accuracy:  27.986627221781273 %\n",
      "====================\n",
      "Training Loss:  3.758289237513797 Time:  10.035192966461182 s\n",
      "Testing Loss:  4.020507490130005\n",
      "Testing Accuracy:  26.545926834547945 %\n",
      "====================\n",
      "Training Loss:  3.7568595769978663 Time:  10.254960775375366 s\n",
      "Testing Loss:  3.9985327524927485\n",
      "Testing Accuracy:  28.746662818385165 %\n",
      "====================\n"
     ]
    }
   ],
   "source": [
    "n_epochs = 30\n",
    "Train_loss = []\n",
    "Test_loss = []\n",
    "Test_acc = []\n",
    "\n",
    "load_model(model, MODEL_TO_LOAD)\n",
    "\n",
    "for i in range(n_epochs):\n",
    "    train_loss = train_epoch(model, train_loader, criterion, optimizer)\n",
    "    test_loss, test_acc = test_model(model, test_loader, criterion)\n",
    "    Train_loss.append(train_loss)\n",
    "    Test_loss.append(test_loss)\n",
    "    Test_acc.append(test_acc)\n",
    "    \n",
    "    save_model(model, i+1, MODEL_TO_LOAD)\n",
    "        \n",
    "    print('='*20)"
   ]
  },
  {
   "cell_type": "markdown",
   "id": "5990f290-db3d-474b-9786-7a7bc2204217",
   "metadata": {},
   "source": [
    "## Result Visualization"
   ]
  },
  {
   "cell_type": "code",
   "execution_count": 151,
   "id": "3617de4d-cdf9-4d65-83ce-d77723734bfe",
   "metadata": {},
   "outputs": [
    {
     "data": {
      "image/png": "[encoded data removed]",
      "text/plain": [
       "<Figure size 432x288 with 1 Axes>"
      ]
     },
     "metadata": {
      "needs_background": "light"
     },
     "output_type": "display_data"
    }
   ],
   "source": [
    "plt.title('Loss Plots')\n",
    "plt.xlabel('Epoch Number')\n",
    "plt.ylabel('Loss')\n",
    "plt.plot(Train_loss, label='Training Loss')\n",
    "plt.plot(Test_loss, label = 'Test Loss')\n",
    "plt.legend()\n",
    "\n",
    "if TOY:\n",
    "    plt.savefig('Graphs/Toy/'+'Trial'+str(TRIALNUM)+'LossPlots.png')\n",
    "else:\n",
    "    plt.savefig('Graphs/'+'Trial'+str(TRIALNUM)+'LossPlots.png')\n",
    "\n",
    "plt.show()"
   ]
  },
  {
   "cell_type": "code",
   "execution_count": 152,
   "id": "78443df9-83a8-4bf1-b1f0-99d029258539",
   "metadata": {},
   "outputs": [
    {
     "data": {
      "image/png": "[encoded data removed]",
      "text/plain": [
       "<Figure size 432x288 with 1 Axes>"
      ]
     },
     "metadata": {
      "needs_background": "light"
     },
     "output_type": "display_data"
    }
   ],
   "source": [
    "plt.title('Test Accuracy')\n",
    "plt.xlabel('Epoch Number')\n",
    "plt.ylabel('Accuracy (%)')\n",
    "plt.plot(Test_acc)\n",
    "\n",
    "if TOY:\n",
    "    plt.savefig('Graphs/Toy/'+'Trial'+str(TRIALNUM)+'Accuracy.png')\n",
    "else:\n",
    "    plt.savefig('Graphs/'+'Trial'+str(TRIALNUM)+'Accuracy.png')\n",
    "\n",
    "plt.show()"
   ]
  },
  {
   "cell_type": "code",
   "execution_count": null,
   "id": "4c33a680-9191-4841-953d-1e32136f3b68",
   "metadata": {},
   "outputs": [],
   "source": []
  },
  {
   "cell_type": "code",
   "execution_count": null,
   "id": "68adaa9a-7e98-454f-9b21-3ad321fd4dd0",
   "metadata": {},
   "outputs": [],
   "source": []
  },
  {
   "cell_type": "code",
   "execution_count": null,
   "id": "c91880a7-1409-4fff-a24c-d26639a18707",
   "metadata": {},
   "outputs": [],
   "source": []
  }
 ],
 "metadata": {
  "kernelspec": {
   "display_name": "Python 3 (ipykernel)",
   "language": "python",
   "name": "python3"
  },
  "language_info": {
   "codemirror_mode": {
    "name": "ipython",
    "version": 3
   },
   "file_extension": ".py",
   "mimetype": "text/x-python",
   "name": "python",
   "nbconvert_exporter": "python",
   "pygments_lexer": "ipython3",
   "version": "3.9.7"
  },
  "toc-autonumbering": true
 },
 "nbformat": 4,
 "nbformat_minor": 5
}
