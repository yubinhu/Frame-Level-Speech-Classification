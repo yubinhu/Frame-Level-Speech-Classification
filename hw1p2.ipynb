{
 "cells": [
  {
   "cell_type": "code",
   "execution_count": 1,
   "id": "e01f84b9-9c40-4a26-98ae-744d77d546f4",
   "metadata": {},
   "outputs": [],
   "source": [
    "# !pip install kaggle"
   ]
  },
  {
   "cell_type": "code",
   "execution_count": 2,
   "id": "41feb602-1404-44fd-97eb-034f877337ad",
   "metadata": {},
   "outputs": [],
   "source": [
    "# !mkdir ~/.kaggle"
   ]
  },
  {
   "cell_type": "code",
   "execution_count": 249,
   "id": "5a33daa1-8862-4e0c-9963-921619db6e75",
   "metadata": {},
   "outputs": [
    {
     "name": "stdout",
     "output_type": "stream",
     "text": [
      "/Users/harvey/Documents/Studies/Computer Science/Deep Learning/HW1P2\n"
     ]
    }
   ],
   "source": [
    "!pwd"
   ]
  },
  {
   "cell_type": "code",
   "execution_count": 4,
   "id": "5b626017-0323-484e-b383-2b650470cb22",
   "metadata": {},
   "outputs": [],
   "source": [
    "# !kaggle competitions download -c idl-fall2021-hw1p2"
   ]
  },
  {
   "cell_type": "code",
   "execution_count": 5,
   "id": "658cb366-16dd-4bda-be2e-3c27284ee6b9",
   "metadata": {},
   "outputs": [],
   "source": [
    "# !unzip idl-fall2021-hw1p2.zip -d Data/"
   ]
  },
  {
   "cell_type": "code",
   "execution_count": 6,
   "id": "71a25043-bfea-4ef3-abe4-31793e5ef46d",
   "metadata": {},
   "outputs": [],
   "source": [
    "# !conda install matplotlib"
   ]
  },
  {
   "cell_type": "markdown",
   "id": "b3afa92f-b029-4749-9d1f-c8dcc4151ef1",
   "metadata": {},
   "source": [
    "# Global Settings"
   ]
  },
  {
   "cell_type": "code",
   "execution_count": 1,
   "id": "e4f0df33-4298-4aca-a570-6d5b2f3118c0",
   "metadata": {},
   "outputs": [
    {
     "ename": "NameError",
     "evalue": "name 'torch' is not defined",
     "output_type": "error",
     "traceback": [
      "\u001b[0;31m---------------------------------------------------------------------------\u001b[0m",
      "\u001b[0;31mNameError\u001b[0m                                 Traceback (most recent call last)",
      "\u001b[0;32m/var/folders/9p/qc_cjl0j4k54nzckdg3j8ncw0000gn/T/ipykernel_89719/648668131.py\u001b[0m in \u001b[0;36m<module>\u001b[0;34m\u001b[0m\n\u001b[1;32m      1\u001b[0m \u001b[0mGLOBALTEST\u001b[0m \u001b[0;34m=\u001b[0m \u001b[0;32mFalse\u001b[0m\u001b[0;34m\u001b[0m\u001b[0;34m\u001b[0m\u001b[0m\n\u001b[0;32m----> 2\u001b[0;31m \u001b[0mTOY\u001b[0m \u001b[0;34m=\u001b[0m \u001b[0;32mnot\u001b[0m \u001b[0mtorch\u001b[0m\u001b[0;34m.\u001b[0m\u001b[0mcuda\u001b[0m\u001b[0;34m.\u001b[0m\u001b[0mis_available\u001b[0m\u001b[0;34m(\u001b[0m\u001b[0;34m)\u001b[0m  \u001b[0;31m# TOY mode use smaller dataset\u001b[0m\u001b[0;34m\u001b[0m\u001b[0;34m\u001b[0m\u001b[0m\n\u001b[0m\u001b[1;32m      3\u001b[0m \u001b[0mTRIALNUM\u001b[0m \u001b[0;34m=\u001b[0m \u001b[0;36m7\u001b[0m\u001b[0;34m\u001b[0m\u001b[0;34m\u001b[0m\u001b[0m\n\u001b[1;32m      4\u001b[0m \u001b[0mSTARTING_EPOCH\u001b[0m \u001b[0;34m=\u001b[0m \u001b[0;36m0\u001b[0m\u001b[0;34m\u001b[0m\u001b[0;34m\u001b[0m\u001b[0m\n\u001b[1;32m      5\u001b[0m \u001b[0mMODEL_TO_LOAD\u001b[0m \u001b[0;34m=\u001b[0m \u001b[0;34m\"\"\u001b[0m\u001b[0;34m\u001b[0m\u001b[0;34m\u001b[0m\u001b[0m\n",
      "\u001b[0;31mNameError\u001b[0m: name 'torch' is not defined"
     ]
    }
   ],
   "source": [
    "GLOBALTEST = False\n",
    "TOY = not torch.cuda.is_available()  # TOY mode use smaller dataset\n",
    "TRIALNUM = 7\n",
    "STARTING_EPOCH = 0\n",
    "MODEL_TO_LOAD = \"\""
   ]
  },
  {
   "cell_type": "code",
   "execution_count": 258,
   "id": "bdbb26a0-1138-4dc0-ae6b-104a01471bde",
   "metadata": {},
   "outputs": [],
   "source": [
    "import numpy as np\n",
    "import torch\n",
    "import torch.nn as nn\n",
    "import matplotlib.pyplot as plt\n",
    "import torch.nn.functional as F\n",
    "import time\n",
    "import torch.optim as optim\n",
    "\n",
    "from torch.utils import data\n",
    "\n",
    "%matplotlib inline"
   ]
  },
  {
   "cell_type": "code",
   "execution_count": 259,
   "id": "09210502-6c1f-4c6f-a487-5e5f257df861",
   "metadata": {},
   "outputs": [
    {
     "name": "stdout",
     "output_type": "stream",
     "text": [
      "No cuda available\n"
     ]
    }
   ],
   "source": [
    "cuda = torch.cuda.is_available()\n",
    "if cuda: print(\"Using cuda!!\") \n",
    "else: print(\"No cuda available\")"
   ]
  },
  {
   "cell_type": "markdown",
   "id": "1e0f53ff-5c8c-41dd-8c5b-06f22934b46f",
   "metadata": {},
   "source": [
    "# Loading Data"
   ]
  },
  {
   "cell_type": "code",
   "execution_count": 260,
   "id": "615ffa74-86fa-4ddc-a9d0-be35cbf53528",
   "metadata": {},
   "outputs": [
    {
     "name": "stdout",
     "output_type": "stream",
     "text": [
      "['Data/toy_train_data.npy', 'Data/toy_train_label.npy', 'Data/toy_val_data.npy', 'Data/toy_val_label.npy']\n"
     ]
    }
   ],
   "source": [
    "real_paths = [\"Data/train.npy\", \"Data/train_labels.npy\", \"Data/dev.npy\", \"Data/dev_labels.npy\"]\n",
    "toy_paths = [\"Data/toy_train_data.npy\", \"Data/toy_train_label.npy\", \"Data/toy_val_data.npy\", \"Data/toy_val_label.npy\"]\n",
    "\n",
    "if TOY:\n",
    "    paths = toy_paths\n",
    "else:\n",
    "    paths = real_paths\n",
    "print(paths)\n",
    "train_data = np.load(paths[0], allow_pickle=True)\n",
    "train_label = np.load(paths[1], allow_pickle=True)\n",
    "test_data = np.load(paths[2], allow_pickle=True)\n",
    "test_label = np.load(paths[3], allow_pickle=True)"
   ]
  },
  {
   "cell_type": "code",
   "execution_count": 261,
   "id": "577277e5-074d-4834-bdfa-334ea6cb3ad7",
   "metadata": {},
   "outputs": [
    {
     "name": "stdout",
     "output_type": "stream",
     "text": [
      "(1000,)\n",
      "(1184, 40)\n"
     ]
    }
   ],
   "source": [
    "print(train_data.shape)\n",
    "print(train_data[0].shape)"
   ]
  },
  {
   "cell_type": "code",
   "execution_count": 262,
   "id": "ebb1185c-7c11-4b39-93fd-e8e1cf9cf97f",
   "metadata": {},
   "outputs": [
    {
     "name": "stdout",
     "output_type": "stream",
     "text": [
      "(1000,)\n",
      "(1184,)\n"
     ]
    }
   ],
   "source": [
    "print(train_label.shape)\n",
    "print(train_label[0].shape)"
   ]
  },
  {
   "cell_type": "code",
   "execution_count": 263,
   "id": "524efb86-d1e4-43a3-a4a1-d4401d8519dc",
   "metadata": {},
   "outputs": [],
   "source": [
    "if TOY:\n",
    "    train_data = train_data[:100]\n",
    "    train_label = train_label[:100]\n",
    "    test_data = test_data[:30]\n",
    "    test_label = test_label[:30]"
   ]
  },
  {
   "cell_type": "markdown",
   "id": "dc64c1d0-b512-4bb3-9e32-01352c41238b",
   "metadata": {},
   "source": [
    "## Dataset"
   ]
  },
  {
   "cell_type": "code",
   "execution_count": 264,
   "id": "6f627f37-1f75-4a59-b99d-12374b1cb64c",
   "metadata": {},
   "outputs": [],
   "source": [
    "from dataset import MyDataset"
   ]
  },
  {
   "cell_type": "markdown",
   "id": "e36dbbf0-cefb-48c3-a38b-beb6bb587854",
   "metadata": {},
   "source": [
    "## Dataloader"
   ]
  },
  {
   "cell_type": "code",
   "execution_count": 265,
   "id": "3708102b-4b63-45a2-ae93-ba76eee3a9c3",
   "metadata": {},
   "outputs": [],
   "source": [
    "num_workers = 0 if cuda else 0 \n",
    "context_size = 10\n",
    "\n",
    "# Training\n",
    "train_dataset = MyDataset(train_data, train_label, context_size = context_size)\n",
    "\n",
    "train_loader_args = dict(shuffle=True, batch_size=64, num_workers=num_workers, pin_memory=True) if cuda\\\n",
    "                    else dict(shuffle=True, batch_size=256)\n",
    "train_loader = data.DataLoader(train_dataset, **train_loader_args)\n",
    "\n",
    "# Testing\n",
    "test_dataset = MyDataset(test_data, test_label, context_size = context_size)\n",
    "\n",
    "test_loader_args = dict(shuffle=False, batch_size=256, num_workers=num_workers, pin_memory=True) if cuda\\\n",
    "                    else dict(shuffle=False, batch_size=1)\n",
    "test_loader = data.DataLoader(test_dataset, **test_loader_args)\n",
    "\n",
    "del train_data\n",
    "del test_data\n",
    "del train_label\n",
    "del test_label"
   ]
  },
  {
   "cell_type": "code",
   "execution_count": 266,
   "id": "ebb41f4f",
   "metadata": {},
   "outputs": [
    {
     "name": "stdout",
     "output_type": "stream",
     "text": [
      "134105\n"
     ]
    }
   ],
   "source": [
    "print(len(train_dataset))\n",
    "# print(list(test_loader))"
   ]
  },
  {
   "cell_type": "markdown",
   "id": "2d86869f-aabc-4595-b3ca-af9fc418a582",
   "metadata": {
    "tags": []
   },
   "source": [
    "# Model and Loss Function"
   ]
  },
  {
   "cell_type": "code",
   "execution_count": 274,
   "id": "c6e469cc-6e0e-40c5-acfd-757cc59f2928",
   "metadata": {},
   "outputs": [],
   "source": [
    "class Simple_MLP(nn.Module):\n",
    "    def __init__(self, size_list):\n",
    "        super(Simple_MLP, self).__init__()\n",
    "        layers = []\n",
    "        self.size_list = size_list\n",
    "        for i in range(len(size_list) - 2):\n",
    "            layers.append(nn.Linear(size_list[i],size_list[i+1]))\n",
    "            layers.append(nn.ReLU())\n",
    "        layers.append(nn.Linear(size_list[-2], size_list[-1]))\n",
    "        self.net = nn.Sequential(*layers)\n",
    "        self.softmax = nn.Softmax(dim=-1)\n",
    "\n",
    "    def forward(self, x):\n",
    "        y = self.net(x)\n",
    "        out = self.softmax(y)\n",
    "        if GLOBALTEST:\n",
    "            print(\"x\", x.shape)\n",
    "            print(\"y\", y.shape)\n",
    "            print(y)\n",
    "            print(\"out\", out.shape)\n",
    "        return out"
   ]
  },
  {
   "cell_type": "code",
   "execution_count": 275,
   "id": "ee97440d-63c0-4d94-a71e-b4042f75cc8c",
   "metadata": {},
   "outputs": [
    {
     "name": "stdout",
     "output_type": "stream",
     "text": [
      "Simple_MLP(\n",
      "  (net): Sequential(\n",
      "    (0): Linear(in_features=840, out_features=128, bias=True)\n",
      "    (1): ReLU()\n",
      "    (2): Linear(in_features=128, out_features=96, bias=True)\n",
      "    (3): ReLU()\n",
      "    (4): Linear(in_features=96, out_features=71, bias=True)\n",
      "  )\n",
      "  (softmax): Softmax(dim=-1)\n",
      ")\n"
     ]
    }
   ],
   "source": [
    "model = Simple_MLP([40*(2*context_size+1), 256, 128, 128, 71])\n",
    "criterion = nn.CrossEntropyLoss()\n",
    "optimizer = optim.Adam(model.parameters(), lr = 5e-5)\n",
    "device = torch.device(\"cuda\" if cuda else \"cpu\")\n",
    "model.to(device)\n",
    "print(model)"
   ]
  },
  {
   "cell_type": "code",
   "execution_count": 276,
   "id": "1edb16c4-7d2d-4585-bbf7-809f52de56ca",
   "metadata": {},
   "outputs": [],
   "source": [
    "if GLOBALTEST:\n",
    "    test = Simple_MLP([10, 4, 2, 2])\n",
    "    device = torch.device(\"cpu\")\n",
    "    test.to(device)\n",
    "\n",
    "    testinput = torch.rand(10, 10).to(device)\n",
    "    testoutput = test.forward(testinput)\n",
    "    print(testoutput)\n",
    "    print(sum(testoutput[0])) \n",
    "    print(testoutput[0].shape)"
   ]
  },
  {
   "cell_type": "markdown",
   "id": "66e7ae8f-59b9-4507-9433-a3914d487a77",
   "metadata": {},
   "source": [
    "# Training Procedure"
   ]
  },
  {
   "cell_type": "code",
   "execution_count": 277,
   "id": "3e018de2-8cc1-4b40-ad83-a407fb5c2204",
   "metadata": {},
   "outputs": [],
   "source": [
    "def train_epoch(model, train_loader, criterion, optimizer):\n",
    "    model.train()\n",
    "\n",
    "    running_loss = 0.0\n",
    "    \n",
    "    start_time = time.time()\n",
    "    for batch_idx, (data, target) in enumerate(train_loader):   \n",
    "        optimizer.zero_grad()   # .backward() accumulates gradients\n",
    "        data = data.to(device)\n",
    "        target = target.to(device) # all data & model on same device\n",
    "\n",
    "        outputs = model(data)\n",
    "        loss = criterion(outputs, target)\n",
    "        running_loss += loss.item()\n",
    "\n",
    "        loss.backward()\n",
    "        optimizer.step()\n",
    "    \n",
    "    end_time = time.time()\n",
    "    \n",
    "    running_loss /= len(train_loader)\n",
    "    print('Training Loss: ', running_loss, 'Time: ',end_time - start_time, 's')\n",
    "    return running_loss"
   ]
  },
  {
   "cell_type": "code",
   "execution_count": 278,
   "id": "bf70a7a2-3f8d-4df6-872a-770f1784ce7a",
   "metadata": {},
   "outputs": [],
   "source": [
    "def test_model(model, test_loader, criterion):\n",
    "    with torch.no_grad():\n",
    "        model.eval()\n",
    "\n",
    "        running_loss = 0.0\n",
    "        total_predictions = 0.0\n",
    "        correct_predictions = 0.0\n",
    "\n",
    "        for batch_idx, (data, target) in enumerate(test_loader):   \n",
    "            data = data.to(device)\n",
    "            target = target.to(device)\n",
    "\n",
    "            outputs = model(data)\n",
    "\n",
    "            _, predicted = torch.max(outputs.data, 1)\n",
    "            total_predictions += target.size(0)\n",
    "            correct_predictions += (predicted == target).sum().item()\n",
    "\n",
    "            loss = criterion(outputs, target).detach()\n",
    "            running_loss += loss.item()\n",
    "\n",
    "\n",
    "        running_loss /= len(test_loader)\n",
    "        acc = (correct_predictions/total_predictions)*100.0\n",
    "        print('Testing Loss: ', running_loss)\n",
    "        print('Testing Accuracy: ', acc, '%')\n",
    "        return running_loss, acc"
   ]
  },
  {
   "cell_type": "code",
   "execution_count": 279,
   "id": "fe3fc13e-be68-49b7-9548-e90cd0ac0832",
   "metadata": {},
   "outputs": [],
   "source": [
    "def save_model(model, epoch, loaded_model):\n",
    "    folder = \"Models/\"\n",
    "    if TOY:\n",
    "        folder += \"Toy/\"\n",
    "        torch.save(model.state_dict(), folder+\"ToyTrial\"+str(TRIALNUM)+\"Epoch\"+str(STARTING_EPOCH + epoch)+\".pth\")\n",
    "    else:\n",
    "        torch.save(model.state_dict(), folder+\"Trial\"+str(TRIALNUM)+\"Epoch\"+str(STARTING_EPOCH + epoch)+\".pth\")\n",
    "def load_model(model, filename):\n",
    "    if not filename:\n",
    "        return\n",
    "    state_dict = torch.load(\"Models/\"+filename, map_location=torch.device(device))\n",
    "    model.load_state_dict(state_dict)"
   ]
  },
  {
   "cell_type": "markdown",
   "id": "60f93238-1f1d-455f-8c61-2cd1d8f581ef",
   "metadata": {},
   "source": [
    "## Training"
   ]
  },
  {
   "cell_type": "code",
   "execution_count": 286,
   "id": "95651bbc-1eca-4ac7-8bef-fd68d71acd9e",
   "metadata": {},
   "outputs": [
    {
     "name": "stdout",
     "output_type": "stream",
     "text": [
      "Epoch 1\n",
      "Training Loss:  3.866575407504125 Time:  7.08669900894165 s\n",
      "Testing Loss:  3.9997115722910124\n",
      "Testing Accuracy:  28.62880919739279 %\n",
      "====================\n",
      "Epoch 2\n",
      "Training Loss:  3.866309626070598 Time:  7.323411226272583 s\n",
      "Testing Loss:  3.9905814027351587\n",
      "Testing Accuracy:  29.588474396902132 %\n",
      "====================\n",
      "Epoch 3\n",
      "Training Loss:  3.8659278841419074 Time:  7.208116054534912 s\n",
      "Testing Loss:  3.9976968693808335\n",
      "Testing Accuracy:  28.835654328114103 %\n",
      "====================\n",
      "Epoch 4\n",
      "Training Loss:  3.8657128623196186 Time:  6.951222896575928 s\n",
      "Testing Loss:  3.9971486572510875\n",
      "Testing Accuracy:  28.869326791254778 %\n",
      "====================\n",
      "Epoch 5\n",
      "Training Loss:  3.8656587433496505 Time:  7.02931809425354 s\n",
      "Testing Loss:  3.99960865395712\n",
      "Testing Accuracy:  28.61678331769969 %\n",
      "====================\n",
      "Epoch 6\n",
      "Training Loss:  3.865171145391828 Time:  6.993682146072388 s\n",
      "Testing Loss:  3.9932499868596767\n",
      "Testing Accuracy:  29.311879163960842 %\n",
      "====================\n",
      "Epoch 7\n",
      "Training Loss:  3.8650982607411972 Time:  6.995344161987305 s\n",
      "Testing Loss:  3.9930291561250386\n",
      "Testing Accuracy:  29.32149986771532 %\n",
      "====================\n",
      "Epoch 8\n",
      "Training Loss:  3.864871044309085 Time:  6.951441049575806 s\n",
      "Testing Loss:  4.000017827748249\n",
      "Testing Accuracy:  28.621593669576928 %\n",
      "====================\n",
      "Epoch 9\n",
      "Training Loss:  3.864823860976532 Time:  6.9139368534088135 s\n",
      "Testing Loss:  4.001283424213759\n",
      "Testing Accuracy:  28.484498641075596 %\n",
      "====================\n",
      "Epoch 10\n",
      "Training Loss:  3.864667333833134 Time:  7.062068223953247 s\n",
      "Testing Loss:  3.998871160155065\n",
      "Testing Accuracy:  28.71539553118311 %\n",
      "====================\n",
      "Epoch 11\n",
      "Training Loss:  3.8645503123980443 Time:  6.987706184387207 s\n",
      "Testing Loss:  4.000895774143411\n",
      "Testing Accuracy:  28.496524520768695 %\n",
      "====================\n",
      "Epoch 12\n",
      "Training Loss:  3.8643285006512214 Time:  6.961833953857422 s\n",
      "Testing Loss:  4.00009200194326\n",
      "Testing Accuracy:  28.640835077085892 %\n",
      "====================\n",
      "Epoch 13\n",
      "Training Loss:  3.8640791162962222 Time:  7.034329175949097 s\n",
      "Testing Loss:  4.004361058731147\n",
      "Testing Accuracy:  28.207903408134307 %\n",
      "====================\n",
      "Epoch 14\n",
      "Training Loss:  3.8639335271738866 Time:  6.9516441822052 s\n",
      "Testing Loss:  3.995203001862679\n",
      "Testing Accuracy:  29.117059912932632 %\n",
      "====================\n",
      "Epoch 15\n",
      "Training Loss:  3.863708580836995 Time:  6.919404029846191 s\n",
      "Testing Loss:  4.001094070471683\n",
      "Testing Accuracy:  28.506145224523173 %\n",
      "====================\n",
      "Epoch 16\n",
      "Training Loss:  3.86386730163607 Time:  6.98773193359375 s\n",
      "Testing Loss:  4.002714450355273\n",
      "Testing Accuracy:  28.34740361257426 %\n",
      "====================\n",
      "Epoch 17\n",
      "Training Loss:  3.863458624095407 Time:  7.1994788646698 s\n",
      "Testing Loss:  3.9978782349106243\n",
      "Testing Accuracy:  28.8476802078072 %\n",
      "====================\n",
      "Epoch 18\n",
      "Training Loss:  3.8634035751109814 Time:  7.397208213806152 s\n",
      "Testing Loss:  4.004069616174298\n",
      "Testing Accuracy:  28.248791399090845 %\n",
      "====================\n",
      "Epoch 19\n",
      "Training Loss:  3.8633624861258586 Time:  7.044064998626709 s\n",
      "Testing Loss:  4.002285432938268\n",
      "Testing Accuracy:  28.3522139644515 %\n",
      "====================\n",
      "Epoch 20\n",
      "Training Loss:  3.863405920167006 Time:  6.969367027282715 s\n",
      "Testing Loss:  4.004394019582179\n",
      "Testing Accuracy:  28.126127426221224 %\n",
      "====================\n",
      "Epoch 21\n",
      "Training Loss:  3.8632083005122557 Time:  7.1858811378479 s\n",
      "Testing Loss:  4.000071613286903\n",
      "Testing Accuracy:  28.60235226206797 %\n",
      "====================\n",
      "Epoch 22\n",
      "Training Loss:  3.8630070942276307 Time:  7.05209493637085 s\n",
      "Testing Loss:  4.003202476941177\n",
      "Testing Accuracy:  28.275248334415664 %\n",
      "====================\n",
      "Epoch 23\n",
      "Training Loss:  3.863009062204652 Time:  6.9297401905059814 s\n",
      "Testing Loss:  4.001890560001236\n",
      "Testing Accuracy:  28.470067585443875 %\n",
      "====================\n",
      "Epoch 24\n",
      "Training Loss:  3.8630205114151686 Time:  6.932647943496704 s\n",
      "Testing Loss:  4.0102310957272\n",
      "Testing Accuracy:  27.62104047911105 %\n",
      "====================\n",
      "Epoch 25\n",
      "Training Loss:  3.862597573349494 Time:  6.917760133743286 s\n",
      "Testing Loss:  3.9937095825418174\n",
      "Testing Accuracy:  29.256560117372587 %\n",
      "====================\n",
      "Epoch 26\n",
      "Training Loss:  3.862865815294608 Time:  6.895787954330444 s\n",
      "Testing Loss:  3.999410932799262\n",
      "Testing Accuracy:  28.696154123674145 %\n",
      "====================\n",
      "Epoch 27\n",
      "Training Loss:  3.862630516176915 Time:  6.905057907104492 s\n",
      "Testing Loss:  4.0024162665284395\n",
      "Testing Accuracy:  28.3762657238377 %\n",
      "====================\n",
      "Epoch 28\n",
      "Training Loss:  3.8626851885373354 Time:  6.900542974472046 s\n",
      "Testing Loss:  3.9972352302501357\n",
      "Testing Accuracy:  28.87894749500926 %\n",
      "====================\n",
      "Epoch 29\n",
      "Training Loss:  3.862440570847679 Time:  6.8958330154418945 s\n",
      "Testing Loss:  4.00389125669582\n",
      "Testing Accuracy:  28.253601750968084 %\n",
      "====================\n",
      "Epoch 30\n",
      "Training Loss:  3.862395632812995 Time:  6.904789209365845 s\n",
      "Testing Loss:  3.9988770152387256\n",
      "Testing Accuracy:  28.782740457464463 %\n",
      "====================\n",
      "Epoch 31\n",
      "Training Loss:  3.862338979280632 Time:  6.918572902679443 s\n",
      "Testing Loss:  3.998477351583208\n",
      "Testing Accuracy:  28.729826586814827 %\n",
      "====================\n",
      "Epoch 32\n",
      "Training Loss:  3.862342918419656 Time:  6.905963659286499 s\n",
      "Testing Loss:  3.9990527994731293\n",
      "Testing Accuracy:  28.698559299612768 %\n",
      "====================\n",
      "Epoch 33\n",
      "Training Loss:  3.862327078144059 Time:  6.89934515953064 s\n",
      "Testing Loss:  4.000697749774143\n",
      "Testing Accuracy:  28.52057628015489 %\n",
      "====================\n",
      "Epoch 34\n",
      "Training Loss:  3.8621584489827847 Time:  6.919302701950073 s\n",
      "Testing Loss:  3.998646699295853\n",
      "Testing Accuracy:  28.782740457464463 %\n",
      "====================\n",
      "Epoch 35\n",
      "Training Loss:  3.862189904651569 Time:  6.906597137451172 s\n",
      "Testing Loss:  4.002512187150591\n",
      "Testing Accuracy:  28.36905019602184 %\n",
      "====================\n",
      "Epoch 36\n",
      "Training Loss:  3.86213043150101 Time:  6.904551982879639 s\n",
      "Testing Loss:  3.999284064055527\n",
      "Testing Accuracy:  28.65526613271761 %\n",
      "====================\n",
      "Epoch 37\n",
      "Training Loss:  3.8618826449827384 Time:  6.906554222106934 s\n",
      "Testing Loss:  4.005676008955002\n",
      "Testing Accuracy:  28.027515212737814 %\n",
      "====================\n",
      "Epoch 38\n",
      "Training Loss:  3.861922268990342 Time:  6.916597127914429 s\n",
      "Testing Loss:  3.9997859267235194\n",
      "Testing Accuracy:  28.640835077085892 %\n",
      "====================\n",
      "Epoch 39\n",
      "Training Loss:  3.8617384563420565 Time:  6.919497013092041 s\n",
      "Testing Loss:  4.005784325995688\n",
      "Testing Accuracy:  28.03473074055367 %\n",
      "====================\n",
      "Epoch 40\n",
      "Training Loss:  3.8619465567455946 Time:  6.955519914627075 s\n",
      "Testing Loss:  3.999608490028219\n",
      "Testing Accuracy:  28.672102364287948 %\n",
      "====================\n",
      "Epoch 41\n",
      "Training Loss:  3.861531494455483 Time:  6.905642986297607 s\n",
      "Testing Loss:  3.999125205888736\n",
      "Testing Accuracy:  28.722611058998964 %\n",
      "====================\n",
      "Epoch 42\n",
      "Training Loss:  3.8519253631812016 Time:  6.920312166213989 s\n",
      "Testing Loss:  4.000715663578327\n",
      "Testing Accuracy:  28.54943839141833 %\n",
      "====================\n",
      "Epoch 43\n",
      "Training Loss:  3.8466639063740504 Time:  6.935342788696289 s\n",
      "Testing Loss:  3.997604747617572\n",
      "Testing Accuracy:  28.85489573562306 %\n",
      "====================\n",
      "Epoch 44\n",
      "Training Loss:  3.844458863366651 Time:  6.953483819961548 s\n",
      "Testing Loss:  3.9995442739906863\n",
      "Testing Accuracy:  28.667292012410705 %\n",
      "====================\n",
      "Epoch 45\n",
      "Training Loss:  3.8427729257417997 Time:  6.966625213623047 s\n",
      "Testing Loss:  4.006599185494119\n",
      "Testing Accuracy:  28.00586862929023 %\n",
      "====================\n",
      "Epoch 46\n",
      "Training Loss:  3.8417863075742287 Time:  6.934356927871704 s\n",
      "Testing Loss:  4.005102504052925\n",
      "Testing Accuracy:  28.11650672246675 %\n",
      "====================\n",
      "Epoch 47\n",
      "Training Loss:  3.839138443347152 Time:  7.352279901504517 s\n",
      "Testing Loss:  3.996382256837784\n",
      "Testing Accuracy:  28.943887245351995 %\n",
      "====================\n",
      "Epoch 48\n",
      "Training Loss:  3.830455447767527 Time:  7.594862937927246 s\n",
      "Testing Loss:  4.001417243091031\n",
      "Testing Accuracy:  28.51817110421627 %\n",
      "====================\n",
      "Epoch 49\n",
      "Training Loss:  3.8276479394381284 Time:  6.999120235443115 s\n",
      "Testing Loss:  3.9957887479591863\n",
      "Testing Accuracy:  29.056930514467133 %\n",
      "====================\n",
      "Epoch 50\n",
      "Training Loss:  3.826117383614751 Time:  7.258877992630005 s\n",
      "Testing Loss:  3.9927147128702023\n",
      "Testing Accuracy:  29.364793034610482 %\n",
      "====================\n",
      "Epoch 51\n",
      "Training Loss:  3.825177639381576 Time:  7.247368097305298 s\n",
      "Testing Loss:  3.9979181282046117\n",
      "Testing Accuracy:  28.85730091156168 %\n",
      "====================\n",
      "Epoch 52\n",
      "Training Loss:  3.824159615594922 Time:  7.056654214859009 s\n",
      "Testing Loss:  3.9929406220232204\n",
      "Testing Accuracy:  29.2950429323905 %\n",
      "====================\n",
      "Epoch 53\n",
      "Training Loss:  3.8237609628957645 Time:  6.993206977844238 s\n",
      "Testing Loss:  3.9948270511618023\n",
      "Testing Accuracy:  29.18681001515261 %\n",
      "====================\n",
      "Epoch 54\n",
      "Training Loss:  3.823189749290015 Time:  7.18796181678772 s\n",
      "Testing Loss:  3.993638898070666\n",
      "Testing Accuracy:  29.258965293311206 %\n",
      "====================\n",
      "Epoch 55\n",
      "Training Loss:  3.8229608112619125 Time:  6.911390066146851 s\n",
      "Testing Loss:  3.992716040873787\n",
      "Testing Accuracy:  29.359982682733243 %\n",
      "====================\n",
      "Epoch 56\n",
      "Training Loss:  3.8225793749776504 Time:  6.926353216171265 s\n",
      "Testing Loss:  4.000468815348149\n",
      "Testing Accuracy:  28.609567789883826 %\n",
      "====================\n",
      "Epoch 57\n",
      "Training Loss:  3.8222737485215865 Time:  7.100407838821411 s\n",
      "Testing Loss:  3.9988622089328825\n",
      "Testing Accuracy:  28.729826586814827 %\n",
      "====================\n",
      "Epoch 58\n",
      "Training Loss:  3.821922106256012 Time:  6.93950891494751 s\n",
      "Testing Loss:  3.994739153760363\n",
      "Testing Accuracy:  29.16035307982779 %\n",
      "====================\n",
      "Epoch 59\n",
      "Training Loss:  3.8218216166923975 Time:  6.958172082901001 s\n",
      "Testing Loss:  3.994963745340645\n",
      "Testing Accuracy:  29.15313755201193 %\n",
      "====================\n",
      "Epoch 60\n",
      "Training Loss:  3.821603595300485 Time:  6.955274820327759 s\n",
      "Testing Loss:  3.9909328145003924\n",
      "Testing Accuracy:  29.540370878129735 %\n",
      "====================\n",
      "Epoch 61\n",
      "Training Loss:  3.821488332884912 Time:  6.960977077484131 s\n",
      "Testing Loss:  3.996829413896309\n",
      "Testing Accuracy:  28.960723476922333 %\n",
      "====================\n",
      "Epoch 62\n",
      "Training Loss:  3.821227016226026 Time:  6.950270891189575 s\n",
      "Testing Loss:  3.9941779930136216\n",
      "Testing Accuracy:  29.203646246722947 %\n",
      "====================\n",
      "Epoch 63\n",
      "Training Loss:  3.8213999112143773 Time:  6.944123268127441 s\n",
      "Testing Loss:  3.9931476293200925\n",
      "Testing Accuracy:  29.311879163960842 %\n",
      "====================\n",
      "Epoch 64\n",
      "Training Loss:  3.8210405700534356 Time:  6.929070949554443 s\n",
      "Testing Loss:  3.9948947688277805\n",
      "Testing Accuracy:  29.13149096856435 %\n",
      "====================\n",
      "Epoch 65\n",
      "Training Loss:  3.8209095443705565 Time:  6.944055080413818 s\n",
      "Testing Loss:  3.9968040514225125\n",
      "Testing Accuracy:  28.924645837843038 %\n",
      "====================\n",
      "Epoch 66\n",
      "Training Loss:  3.8208037561360206 Time:  6.996851921081543 s\n",
      "Testing Loss:  3.9949568456811764\n",
      "Testing Accuracy:  29.143516848257452 %\n",
      "====================\n",
      "Epoch 67\n",
      "Training Loss:  3.820754058602202 Time:  6.977965831756592 s\n",
      "Testing Loss:  3.997412669738082\n",
      "Testing Accuracy:  28.90540443033408 %\n",
      "====================\n",
      "Epoch 68\n",
      "Training Loss:  3.8205990708283797 Time:  7.008712291717529 s\n",
      "Testing Loss:  3.9944602701058822\n",
      "Testing Accuracy:  29.172378959520888 %\n",
      "====================\n",
      "Epoch 69\n",
      "Training Loss:  3.820666121958776 Time:  7.001916885375977 s\n",
      "Testing Loss:  3.994356625414481\n",
      "Testing Accuracy:  29.222887654231904 %\n",
      "====================\n",
      "Epoch 70\n",
      "Training Loss:  3.820297268852023 Time:  7.000777006149292 s\n",
      "Testing Loss:  3.9953134527201146\n",
      "Testing Accuracy:  29.088197801669192 %\n",
      "====================\n",
      "Epoch 71\n",
      "Training Loss:  3.8202929820950704 Time:  7.003752946853638 s\n",
      "Testing Loss:  3.996587513655895\n",
      "Testing Accuracy:  28.943887245351995 %\n",
      "====================\n",
      "Epoch 72\n",
      "Training Loss:  3.8201075249728356 Time:  7.245881080627441 s\n",
      "Testing Loss:  3.9976186718027704\n",
      "Testing Accuracy:  28.85730091156168 %\n",
      "====================\n",
      "Epoch 73\n",
      "Training Loss:  3.8202370430221992 Time:  7.297549724578857 s\n",
      "Testing Loss:  3.9960244998364867\n",
      "Testing Accuracy:  29.032878755080933 %\n",
      "====================\n",
      "Epoch 74\n",
      "Training Loss:  3.818293817966949 Time:  7.990627765655518 s\n",
      "Testing Loss:  3.993489747394125\n",
      "Testing Accuracy:  29.299853284267748 %\n",
      "====================\n",
      "Epoch 75\n",
      "Training Loss:  3.8149168699524787 Time:  8.120666265487671 s\n",
      "Testing Loss:  3.9913061184780703\n",
      "Testing Accuracy:  29.477836303725617 %\n",
      "====================\n",
      "Epoch 76\n",
      "Training Loss:  3.8135570502690688 Time:  8.238147735595703 s\n",
      "Testing Loss:  3.9908708561366204\n",
      "Testing Accuracy:  29.554801933761453 %\n",
      "====================\n",
      "Epoch 77\n",
      "Training Loss:  3.8128968953858804 Time:  7.2974159717559814 s\n",
      "Testing Loss:  3.9925938655876116\n",
      "Testing Accuracy:  29.374413738364964 %\n",
      "====================\n",
      "Epoch 78\n",
      "Training Loss:  3.8122458453396804 Time:  6.9539690017700195 s\n",
      "Testing Loss:  3.987496302127093\n",
      "Testing Accuracy:  29.838612694518602 %\n",
      "====================\n",
      "Epoch 79\n",
      "Training Loss:  3.8117477250008185 Time:  7.019273996353149 s\n",
      "Testing Loss:  3.992677688707586\n",
      "Testing Accuracy:  29.38162926618082 %\n",
      "====================\n",
      "Epoch 80\n",
      "Training Loss:  3.8115155601319466 Time:  6.955456972122192 s\n",
      "Testing Loss:  3.9848406650483486\n",
      "Testing Accuracy:  30.124828631214374 %\n",
      "====================\n"
     ]
    }
   ],
   "source": [
    "n_epochs = 80\n",
    "Train_loss = []\n",
    "Test_loss = []\n",
    "Test_acc = []\n",
    "\n",
    "load_model(model, MODEL_TO_LOAD)\n",
    "\n",
    "for i in range(n_epochs):\n",
    "    print(\"Epoch\", i+1)\n",
    "    train_loss = train_epoch(model, train_loader, criterion, optimizer)\n",
    "    test_loss, test_acc = test_model(model, test_loader, criterion)\n",
    "    Train_loss.append(train_loss)\n",
    "    Test_loss.append(test_loss)\n",
    "    Test_acc.append(test_acc)\n",
    "    \n",
    "    save_model(model, i+1, MODEL_TO_LOAD)\n",
    "        \n",
    "    print('='*20)"
   ]
  },
  {
   "cell_type": "markdown",
   "id": "5990f290-db3d-474b-9786-7a7bc2204217",
   "metadata": {},
   "source": [
    "## Result Visualization"
   ]
  },
  {
   "cell_type": "code",
   "execution_count": 281,
   "id": "3617de4d-cdf9-4d65-83ce-d77723734bfe",
   "metadata": {},
   "outputs": [
    {
     "data": {
      "image/png": "[encoded data removed]",
      "text/plain": [
       "<Figure size 432x288 with 1 Axes>"
      ]
     },
     "metadata": {
      "needs_background": "light"
     },
     "output_type": "display_data"
    }
   ],
   "source": [
    "plt.title('Loss Plots')\n",
    "plt.xlabel('Epoch Number')\n",
    "plt.ylabel('Loss')\n",
    "plt.plot(Train_loss, label='Training Loss')\n",
    "plt.plot(Test_loss, label = 'Test Loss')\n",
    "plt.legend()\n",
    "\n",
    "if TOY:\n",
    "    plt.savefig('Graphs/Toy/'+'Trial'+str(TRIALNUM)+'LossPlots.png')\n",
    "else:\n",
    "    plt.savefig('Graphs/'+'Trial'+str(TRIALNUM)+'LossPlots.png')\n",
    "\n",
    "plt.show()"
   ]
  },
  {
   "cell_type": "code",
   "execution_count": 282,
   "id": "78443df9-83a8-4bf1-b1f0-99d029258539",
   "metadata": {},
   "outputs": [
    {
     "data": {
      "image/png": "[encoded data removed]",
      "text/plain": [
       "<Figure size 432x288 with 1 Axes>"
      ]
     },
     "metadata": {
      "needs_background": "light"
     },
     "output_type": "display_data"
    }
   ],
   "source": [
    "plt.title('Test Accuracy')\n",
    "plt.xlabel('Epoch Number')\n",
    "plt.ylabel('Accuracy (%)')\n",
    "plt.plot(Test_acc)\n",
    "\n",
    "if TOY:\n",
    "    plt.savefig('Graphs/Toy/'+'Trial'+str(TRIALNUM)+'Accuracy.png')\n",
    "else:\n",
    "    plt.savefig('Graphs/'+'Trial'+str(TRIALNUM)+'Accuracy.png')\n",
    "\n",
    "plt.show()"
   ]
  },
  {
   "cell_type": "code",
   "execution_count": null,
   "id": "4c33a680-9191-4841-953d-1e32136f3b68",
   "metadata": {},
   "outputs": [],
   "source": []
  },
  {
   "cell_type": "code",
   "execution_count": null,
   "id": "68adaa9a-7e98-454f-9b21-3ad321fd4dd0",
   "metadata": {},
   "outputs": [],
   "source": []
  },
  {
   "cell_type": "code",
   "execution_count": null,
   "id": "c91880a7-1409-4fff-a24c-d26639a18707",
   "metadata": {},
   "outputs": [],
   "source": []
  }
 ],
 "metadata": {
  "kernelspec": {
   "display_name": "Python 3 (ipykernel)",
   "language": "python",
   "name": "python3"
  },
  "language_info": {
   "codemirror_mode": {
    "name": "ipython",
    "version": 3
   },
   "file_extension": ".py",
   "mimetype": "text/x-python",
   "name": "python",
   "nbconvert_exporter": "python",
   "pygments_lexer": "ipython3",
   "version": "3.9.7"
  },
  "toc-autonumbering": true
 },
 "nbformat": 4,
 "nbformat_minor": 5
}
