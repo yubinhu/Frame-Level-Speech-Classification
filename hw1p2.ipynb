{
 "cells": [
  {
   "cell_type": "code",
   "execution_count": 30,
   "id": "e01f84b9-9c40-4a26-98ae-744d77d546f4",
   "metadata": {},
   "outputs": [
    {
     "name": "stdout",
     "output_type": "stream",
     "text": [
      "Collecting kaggle\n",
      "  Downloading kaggle-1.5.12.tar.gz (58 kB)\n",
      "     |████████████████████████████████| 58 kB 2.3 MB/s            \n",
      "\u001b[?25h  Preparing metadata (setup.py) ... \u001b[?25ldone\n",
      "\u001b[?25hRequirement already satisfied: six>=1.10 in /home/studio-lab-user/.conda/envs/cv/lib/python3.9/site-packages (from kaggle) (1.16.0)\n",
      "Collecting certifi\n",
      "  Downloading certifi-2021.10.8-py2.py3-none-any.whl (149 kB)\n",
      "     |████████████████████████████████| 149 kB 4.9 MB/s            \n",
      "\u001b[?25hRequirement already satisfied: python-dateutil in /home/studio-lab-user/.conda/envs/cv/lib/python3.9/site-packages (from kaggle) (2.8.2)\n",
      "Collecting requests\n",
      "  Downloading requests-2.26.0-py2.py3-none-any.whl (62 kB)\n",
      "     |████████████████████████████████| 62 kB 2.3 MB/s             \n",
      "\u001b[?25hCollecting tqdm\n",
      "  Downloading tqdm-4.62.3-py2.py3-none-any.whl (76 kB)\n",
      "     |████████████████████████████████| 76 kB 4.8 MB/s             \n",
      "\u001b[?25hCollecting python-slugify\n",
      "  Downloading python_slugify-5.0.2-py2.py3-none-any.whl (6.7 kB)\n",
      "Collecting urllib3\n",
      "  Downloading urllib3-1.26.7-py2.py3-none-any.whl (138 kB)\n",
      "     |████████████████████████████████| 138 kB 6.1 MB/s            \n",
      "\u001b[?25hCollecting text-unidecode>=1.3\n",
      "  Downloading text_unidecode-1.3-py2.py3-none-any.whl (78 kB)\n",
      "     |████████████████████████████████| 78 kB 7.2 MB/s             \n",
      "\u001b[?25hCollecting charset-normalizer~=2.0.0\n",
      "  Downloading charset_normalizer-2.0.9-py3-none-any.whl (39 kB)\n",
      "Collecting idna<4,>=2.5\n",
      "  Downloading idna-3.3-py3-none-any.whl (61 kB)\n",
      "     |████████████████████████████████| 61 kB 6.7 MB/s             \n",
      "\u001b[?25hBuilding wheels for collected packages: kaggle\n",
      "  Building wheel for kaggle (setup.py) ... \u001b[?25ldone\n",
      "\u001b[?25h  Created wheel for kaggle: filename=kaggle-1.5.12-py3-none-any.whl size=73051 sha256=6734efa97d6e655e88d3f1de257c223238b6893d2c9c7c9d7ea457293f0bb715\n",
      "  Stored in directory: /home/studio-lab-user/.cache/pip/wheels/ac/b2/c3/fa4706d469b5879105991d1c8be9a3c2ef329ba9fe2ce5085e\n",
      "Successfully built kaggle\n",
      "Installing collected packages: urllib3, text-unidecode, idna, charset-normalizer, certifi, tqdm, requests, python-slugify, kaggle\n",
      "Successfully installed certifi-2021.10.8 charset-normalizer-2.0.9 idna-3.3 kaggle-1.5.12 python-slugify-5.0.2 requests-2.26.0 text-unidecode-1.3 tqdm-4.62.3 urllib3-1.26.7\n"
     ]
    }
   ],
   "source": [
    "!pip install kaggle"
   ]
  },
  {
   "cell_type": "code",
   "execution_count": 31,
   "id": "41feb602-1404-44fd-97eb-034f877337ad",
   "metadata": {},
   "outputs": [],
   "source": [
    "!mkdir ~/.kaggle"
   ]
  },
  {
   "cell_type": "code",
   "execution_count": 32,
   "id": "5a33daa1-8862-4e0c-9963-921619db6e75",
   "metadata": {},
   "outputs": [
    {
     "name": "stdout",
     "output_type": "stream",
     "text": [
      "/home/studio-lab-user/sagemaker-studiolab-notebooks/HW1P2\n"
     ]
    }
   ],
   "source": [
    "!pwd"
   ]
  },
  {
   "cell_type": "code",
   "execution_count": 34,
   "id": "5b626017-0323-484e-b383-2b650470cb22",
   "metadata": {},
   "outputs": [
    {
     "name": "stdout",
     "output_type": "stream",
     "text": [
      "Warning: Your Kaggle API key is readable by other users on this system! To fix this, you can run 'chmod 600 /home/studio-lab-user/.kaggle/kaggle.json'\n",
      "Downloading idl-fall2021-hw1p2.zip to /home/studio-lab-user/sagemaker-studiolab-notebooks/HW1P2\n",
      "100%|██████████████████████████████████████▊| 2.39G/2.40G [00:26<00:00, 115MB/s]\n",
      "100%|██████████████████████████████████████| 2.40G/2.40G [00:27<00:00, 95.5MB/s]\n"
     ]
    }
   ],
   "source": [
    "!kaggle competitions download -c idl-fall2021-hw1p2"
   ]
  },
  {
   "cell_type": "code",
   "execution_count": 1,
   "id": "bf64fd4f-d6a0-48e4-89c1-38ecf9cb553f",
   "metadata": {},
   "outputs": [
    {
     "name": "stdout",
     "output_type": "stream",
     "text": [
      "/home/studio-lab-user/sagemaker-studiolab-notebooks/HW1P2\n"
     ]
    }
   ],
   "source": [
    "!pwd"
   ]
  },
  {
   "cell_type": "code",
   "execution_count": 2,
   "id": "658cb366-16dd-4bda-be2e-3c27284ee6b9",
   "metadata": {},
   "outputs": [
    {
     "name": "stdout",
     "output_type": "stream",
     "text": [
      "Archive:  idl-fall2021-hw1p2.zip\n",
      "  inflating: Data/dev.npy            \n",
      "Data/dev.npy:  write error (disk full?).  Continue? (y/n/^C) ^C\n"
     ]
    }
   ],
   "source": [
    "!unzip idl-fall2021-hw1p2.zip -d Data/"
   ]
  },
  {
   "cell_type": "code",
   "execution_count": 3,
   "id": "71a25043-bfea-4ef3-abe4-31793e5ef46d",
   "metadata": {},
   "outputs": [
    {
     "name": "stdout",
     "output_type": "stream",
     "text": [
      "/usr/bin/sh: 1: y: not found\n"
     ]
    }
   ],
   "source": [
    "!y"
   ]
  },
  {
   "cell_type": "markdown",
   "id": "b3afa92f-b029-4749-9d1f-c8dcc4151ef1",
   "metadata": {},
   "source": [
    "# Global Settings"
   ]
  },
  {
   "cell_type": "code",
   "execution_count": 1,
   "id": "e4f0df33-4298-4aca-a570-6d5b2f3118c0",
   "metadata": {},
   "outputs": [],
   "source": [
    "%pwd\n",
    "GLOBALTEST = False"
   ]
  },
  {
   "cell_type": "code",
   "execution_count": 2,
   "id": "bdbb26a0-1138-4dc0-ae6b-104a01471bde",
   "metadata": {},
   "outputs": [],
   "source": [
    "import numpy as np\n",
    "import torch\n",
    "import torch.nn as nn\n",
    "import matplotlib.pyplot as plt\n",
    "import torch.nn.functional as F\n",
    "import time\n",
    "import torch.optim as optim\n",
    "\n",
    "from torch.utils import data\n",
    "\n",
    "%matplotlib inline"
   ]
  },
  {
   "cell_type": "code",
   "execution_count": 3,
   "id": "09210502-6c1f-4c6f-a487-5e5f257df861",
   "metadata": {},
   "outputs": [
    {
     "name": "stdout",
     "output_type": "stream",
     "text": [
      "Using cuda!!\n"
     ]
    }
   ],
   "source": [
    "cuda = torch.cuda.is_available()\n",
    "if cuda: print(\"Using cuda!!\") \n",
    "else: print(\"No cuda available\")"
   ]
  },
  {
   "cell_type": "markdown",
   "id": "1e0f53ff-5c8c-41dd-8c5b-06f22934b46f",
   "metadata": {},
   "source": [
    "# Loading Data"
   ]
  },
  {
   "cell_type": "code",
   "execution_count": 4,
   "id": "615ffa74-86fa-4ddc-a9d0-be35cbf53528",
   "metadata": {},
   "outputs": [],
   "source": [
    "train_data = np.load(\"Data/toy_train_data.npy\", allow_pickle=True)\n",
    "train_label = np.load(\"Data/toy_train_label.npy\", allow_pickle=True)\n",
    "test_data = np.load(\"Data/toy_val_data.npy\", allow_pickle=True)\n",
    "test_label = np.load(\"Data/toy_val_label.npy\", allow_pickle=True)"
   ]
  },
  {
   "cell_type": "code",
   "execution_count": 5,
   "id": "577277e5-074d-4834-bdfa-334ea6cb3ad7",
   "metadata": {},
   "outputs": [
    {
     "name": "stdout",
     "output_type": "stream",
     "text": [
      "(1000,)\n",
      "(1184, 40)\n"
     ]
    }
   ],
   "source": [
    "print(train_data.shape)\n",
    "print(train_data[0].shape)"
   ]
  },
  {
   "cell_type": "code",
   "execution_count": 6,
   "id": "ebb1185c-7c11-4b39-93fd-e8e1cf9cf97f",
   "metadata": {},
   "outputs": [
    {
     "name": "stdout",
     "output_type": "stream",
     "text": [
      "(1000,)\n",
      "(1184,)\n"
     ]
    }
   ],
   "source": [
    "print(train_label.shape)\n",
    "print(train_label[0].shape)"
   ]
  },
  {
   "cell_type": "markdown",
   "id": "dc64c1d0-b512-4bb3-9e32-01352c41238b",
   "metadata": {},
   "source": [
    "## Dataset"
   ]
  },
  {
   "cell_type": "code",
   "execution_count": 7,
   "id": "6f627f37-1f75-4a59-b99d-12374b1cb64c",
   "metadata": {},
   "outputs": [],
   "source": [
    "class MyDataset(data.Dataset):\n",
    "    def __init__(self, data, label, context_size = 1):\n",
    "        # data and label nparrays directly loaded from files\n",
    "        N = len(data)\n",
    "        X = []\n",
    "        Y = []\n",
    "        locator = []\n",
    "        ctr = 0\n",
    "        for i in range(N):\n",
    "            xi = torch.from_numpy(data[i]).float()\n",
    "            yi = torch.from_numpy(label[i]).long()\n",
    "            X.append(xi)\n",
    "            Y.append(yi)\n",
    "            li = xi.shape[0]\n",
    "            for j in range(li):\n",
    "                locator.append((i, j)) #ith piece, jth time frame\n",
    "                ctr += 1\n",
    "        \n",
    "        self.X = X\n",
    "        self.Y = Y\n",
    "        self.locator = locator\n",
    "        self.context_size = context_size\n",
    "\n",
    "    def __len__(self):\n",
    "        return len(self.locator)\n",
    "\n",
    "    def __getitem__(self,index):\n",
    "        i, j = self.locator[index]\n",
    "        left = j - self.context_size\n",
    "        right = j + self.context_size # both sides inclusive\n",
    "        if GLOBALTEST: print(left, right) \n",
    "        X = self.X[i][j:j+1]\n",
    "        if left < 0:\n",
    "            XL = self.X[i][:j]\n",
    "            if GLOBALTEST: print(XL.shape) \n",
    "            XL = F.pad(input=XL, pad=(0, 0, self.context_size-XL.shape[0], 0), mode='constant', value=0)\n",
    "        else:\n",
    "            XL = self.X[i][left:j]\n",
    "        \n",
    "        if right >= self.X[i].shape[0]:\n",
    "            \n",
    "            XR = self.X[i][j+1:]\n",
    "            XR = F.pad(input=XR, pad=(0, 0, 0, self.context_size-XR.shape[0]), mode='constant', value=0)\n",
    "        else:\n",
    "            XR = self.X[i][j+1:right+1]\n",
    "        \n",
    "        if GLOBALTEST:\n",
    "            print(\"XL shape:\", XL.shape)\n",
    "            print(\"X shape:\", X.shape)\n",
    "            print(\"XR shape:\", XR.shape)\n",
    "        \n",
    "        X = torch.cat((XL,X,XR), 0).reshape(-1)\n",
    "        Y = self.Y[i][j]\n",
    "        \n",
    "        return X,Y"
   ]
  },
  {
   "cell_type": "markdown",
   "id": "e36dbbf0-cefb-48c3-a38b-beb6bb587854",
   "metadata": {},
   "source": [
    "## Dataloader"
   ]
  },
  {
   "cell_type": "code",
   "execution_count": 8,
   "id": "3708102b-4b63-45a2-ae93-ba76eee3a9c3",
   "metadata": {},
   "outputs": [],
   "source": [
    "num_workers = 4 if cuda else 0 \n",
    "context_size = 5\n",
    "\n",
    "# Training\n",
    "train_dataset = MyDataset(train_data, train_label, context_size = context_size)\n",
    "\n",
    "train_loader_args = dict(shuffle=True, batch_size=256, num_workers=num_workers, pin_memory=True) if cuda\\\n",
    "                    else dict(shuffle=True, batch_size=64)\n",
    "train_loader = data.DataLoader(train_dataset, **train_loader_args)\n",
    "\n",
    "# Testing\n",
    "test_dataset = MyDataset(test_data, test_label, context_size = context_size)\n",
    "\n",
    "test_loader_args = dict(shuffle=False, batch_size=256, num_workers=num_workers, pin_memory=True) if cuda\\\n",
    "                    else dict(shuffle=False, batch_size=1)\n",
    "test_loader = data.DataLoader(test_dataset, **test_loader_args)"
   ]
  },
  {
   "cell_type": "markdown",
   "id": "2d86869f-aabc-4595-b3ca-af9fc418a582",
   "metadata": {
    "tags": []
   },
   "source": [
    "# Model and Loss Function"
   ]
  },
  {
   "cell_type": "code",
   "execution_count": 9,
   "id": "c6e469cc-6e0e-40c5-acfd-757cc59f2928",
   "metadata": {},
   "outputs": [],
   "source": [
    "class Simple_MLP(nn.Module):\n",
    "    def __init__(self, size_list):\n",
    "        super(Simple_MLP, self).__init__()\n",
    "        layers = []\n",
    "        self.size_list = size_list\n",
    "        for i in range(len(size_list) - 2):\n",
    "            layers.append(nn.Linear(size_list[i],size_list[i+1]))\n",
    "            layers.append(nn.ReLU())\n",
    "        layers.append(nn.Linear(size_list[-2], size_list[-1]))\n",
    "        self.net = nn.Sequential(*layers)\n",
    "\n",
    "    def forward(self, x):\n",
    "        return self.net(x)"
   ]
  },
  {
   "cell_type": "code",
   "execution_count": 10,
   "id": "ee97440d-63c0-4d94-a71e-b4042f75cc8c",
   "metadata": {},
   "outputs": [
    {
     "name": "stdout",
     "output_type": "stream",
     "text": [
      "Simple_MLP(\n",
      "  (net): Sequential(\n",
      "    (0): Linear(in_features=440, out_features=256, bias=True)\n",
      "    (1): ReLU()\n",
      "    (2): Linear(in_features=256, out_features=128, bias=True)\n",
      "    (3): ReLU()\n",
      "    (4): Linear(in_features=128, out_features=64, bias=True)\n",
      "    (5): ReLU()\n",
      "    (6): Linear(in_features=64, out_features=71, bias=True)\n",
      "  )\n",
      ")\n"
     ]
    }
   ],
   "source": [
    "model = Simple_MLP([40*(2*context_size+1), 256, 128, 64, 71])\n",
    "criterion = nn.CrossEntropyLoss()\n",
    "optimizer = optim.Adam(model.parameters(), lr = 1e-4)\n",
    "device = torch.device(\"cuda\" if cuda else \"cpu\")\n",
    "model.to(device)\n",
    "print(model)"
   ]
  },
  {
   "cell_type": "markdown",
   "id": "66e7ae8f-59b9-4507-9433-a3914d487a77",
   "metadata": {},
   "source": [
    "# Training Procedure"
   ]
  },
  {
   "cell_type": "code",
   "execution_count": 11,
   "id": "3e018de2-8cc1-4b40-ad83-a407fb5c2204",
   "metadata": {},
   "outputs": [],
   "source": [
    "def train_epoch(model, train_loader, criterion, optimizer):\n",
    "    model.train()\n",
    "\n",
    "    running_loss = 0.0\n",
    "    \n",
    "    start_time = time.time()\n",
    "    for batch_idx, (data, target) in enumerate(train_loader):   \n",
    "        optimizer.zero_grad()   # .backward() accumulates gradients\n",
    "        data = data.to(device)\n",
    "        target = target.to(device) # all data & model on same device\n",
    "\n",
    "        outputs = model(data)\n",
    "        loss = criterion(outputs, target)\n",
    "        running_loss += loss.item()\n",
    "\n",
    "        loss.backward()\n",
    "        optimizer.step()\n",
    "    \n",
    "    end_time = time.time()\n",
    "    \n",
    "    running_loss /= len(train_loader)\n",
    "    print('Training Loss: ', running_loss, 'Time: ',end_time - start_time, 's')\n",
    "    return running_loss"
   ]
  },
  {
   "cell_type": "code",
   "execution_count": 12,
   "id": "bf70a7a2-3f8d-4df6-872a-770f1784ce7a",
   "metadata": {},
   "outputs": [],
   "source": [
    "def test_model(model, test_loader, criterion):\n",
    "    with torch.no_grad():\n",
    "        model.eval()\n",
    "\n",
    "        running_loss = 0.0\n",
    "        total_predictions = 0.0\n",
    "        correct_predictions = 0.0\n",
    "\n",
    "        for batch_idx, (data, target) in enumerate(test_loader):   \n",
    "            data = data.to(device)\n",
    "            target = target.to(device)\n",
    "\n",
    "            outputs = model(data)\n",
    "\n",
    "            _, predicted = torch.max(outputs.data, 1)\n",
    "            total_predictions += target.size(0)\n",
    "            correct_predictions += (predicted == target).sum().item()\n",
    "\n",
    "            loss = criterion(outputs, target).detach()\n",
    "            running_loss += loss.item()\n",
    "\n",
    "\n",
    "        running_loss /= len(test_loader)\n",
    "        acc = (correct_predictions/total_predictions)*100.0\n",
    "        print('Testing Loss: ', running_loss)\n",
    "        print('Testing Accuracy: ', acc, '%')\n",
    "        return running_loss, acc"
   ]
  },
  {
   "cell_type": "markdown",
   "id": "60f93238-1f1d-455f-8c61-2cd1d8f581ef",
   "metadata": {},
   "source": [
    "## Training"
   ]
  },
  {
   "cell_type": "code",
   "execution_count": null,
   "id": "95651bbc-1eca-4ac7-8bef-fd68d71acd9e",
   "metadata": {},
   "outputs": [
    {
     "name": "stdout",
     "output_type": "stream",
     "text": [
      "Training Loss:  1.3542344530683506 Time:  22.649085521697998 s\n",
      "Testing Loss:  1.7564266423478512\n",
      "Testing Accuracy:  50.524049985736355 %\n",
      "====================\n",
      "Training Loss:  1.2581681161084723 Time:  22.616214990615845 s\n",
      "Testing Loss:  1.701590466160345\n",
      "Testing Accuracy:  51.9392998588455 %\n",
      "====================\n",
      "Training Loss:  1.1987913167360824 Time:  22.612998247146606 s\n",
      "Testing Loss:  1.6958526370649654\n",
      "Testing Accuracy:  52.39129065601647 %\n",
      "====================\n",
      "Training Loss:  1.156319332694856 Time:  22.590041399002075 s\n",
      "Testing Loss:  1.649172333405481\n",
      "Testing Accuracy:  53.48570115998622 %\n",
      "====================\n",
      "Training Loss:  1.1237769034819873 Time:  22.500128984451294 s\n",
      "Testing Loss:  1.6430865552188096\n",
      "Testing Accuracy:  53.96696021369532 %\n",
      "====================\n",
      "Training Loss:  1.097457647678187 Time:  22.473544597625732 s\n",
      "Testing Loss:  1.651182627310685\n",
      "Testing Accuracy:  53.87063430610151 %\n",
      "====================\n",
      "Training Loss:  1.0756994876718795 Time:  22.687042474746704 s\n",
      "Testing Loss:  1.6432378613270855\n",
      "Testing Accuracy:  54.15775960758307 %\n",
      "====================\n",
      "Training Loss:  1.057174422356573 Time:  22.6662495136261 s\n"
     ]
    }
   ],
   "source": [
    "n_epochs = 20\n",
    "save = True\n",
    "Train_loss = []\n",
    "Test_loss = []\n",
    "Test_acc = []\n",
    "\n",
    "for i in range(n_epochs):\n",
    "    train_loss = train_epoch(model, train_loader, criterion, optimizer)\n",
    "    test_loss, test_acc = test_model(model, test_loader, criterion)\n",
    "    Train_loss.append(train_loss)\n",
    "    Test_loss.append(test_loss)\n",
    "    Test_acc.append(test_acc)\n",
    "    if save:\n",
    "        torch.save(model.state_dict(), \"checkpoint.pth\")\n",
    "    print('='*20)"
   ]
  },
  {
   "cell_type": "markdown",
   "id": "5990f290-db3d-474b-9786-7a7bc2204217",
   "metadata": {},
   "source": [
    "## Result Visualization"
   ]
  },
  {
   "cell_type": "code",
   "execution_count": null,
   "id": "3617de4d-cdf9-4d65-83ce-d77723734bfe",
   "metadata": {},
   "outputs": [],
   "source": [
    "plt.title('Loss Plots')\n",
    "plt.xlabel('Epoch Number')\n",
    "plt.ylabel('Loss')\n",
    "plt.plot(Train_loss, label='Training Loss')\n",
    "plt.plot(Test_loss, label = 'Test Loss')\n",
    "plt.legend()"
   ]
  },
  {
   "cell_type": "code",
   "execution_count": null,
   "id": "78443df9-83a8-4bf1-b1f0-99d029258539",
   "metadata": {},
   "outputs": [],
   "source": [
    "plt.title('Test Accuracy')\n",
    "plt.xlabel('Epoch Number')\n",
    "plt.ylabel('Accuracy (%)')\n",
    "plt.plot(Test_acc)"
   ]
  },
  {
   "cell_type": "code",
   "execution_count": null,
   "id": "4c33a680-9191-4841-953d-1e32136f3b68",
   "metadata": {},
   "outputs": [],
   "source": []
  },
  {
   "cell_type": "code",
   "execution_count": null,
   "id": "68adaa9a-7e98-454f-9b21-3ad321fd4dd0",
   "metadata": {},
   "outputs": [],
   "source": []
  }
 ],
 "metadata": {
  "kernelspec": {
   "display_name": "cv:Python",
   "language": "python",
   "name": "conda-env-cv-py"
  },
  "language_info": {
   "codemirror_mode": {
    "name": "ipython",
    "version": 3
   },
   "file_extension": ".py",
   "mimetype": "text/x-python",
   "name": "python",
   "nbconvert_exporter": "python",
   "pygments_lexer": "ipython3",
   "version": "3.9.9"
  },
  "toc-autonumbering": true
 },
 "nbformat": 4,
 "nbformat_minor": 5
}
