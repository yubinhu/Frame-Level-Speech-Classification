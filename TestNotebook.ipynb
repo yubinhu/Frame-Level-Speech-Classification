{
 "cells": [
  {
   "cell_type": "code",
   "execution_count": 2,
   "id": "046d4f43-1f5c-436a-bd46-9c6aa07d3242",
   "metadata": {},
   "outputs": [],
   "source": [
    "import numpy as np\n",
    "import torch\n",
    "import torch.nn as nn\n",
    "import matplotlib.pyplot as plt\n",
    "import torch.nn.functional as F\n",
    "import time\n",
    "import torch.optim as optim\n",
    "\n",
    "from torch.utils import data\n",
    "\n",
    "%matplotlib inline"
   ]
  },
  {
   "cell_type": "code",
   "execution_count": 22,
   "id": "b536895c-844a-4b04-854b-a6fdd625faf2",
   "metadata": {},
   "outputs": [],
   "source": [
    "input = torch.randn(64, 2)"
   ]
  },
  {
   "cell_type": "code",
   "execution_count": 23,
   "id": "fcb60d81-5e57-43c5-89cb-ee8a40ec2ca1",
   "metadata": {},
   "outputs": [
    {
     "data": {
      "text/plain": [
       "tensor([[0.7156, 0.2844],\n",
       "        [0.5834, 0.4166],\n",
       "        [0.8559, 0.1441],\n",
       "        [0.5487, 0.4513],\n",
       "        [0.5197, 0.4803],\n",
       "        [0.5997, 0.4003],\n",
       "        [0.5273, 0.4727],\n",
       "        [0.5982, 0.4018],\n",
       "        [0.2009, 0.7991],\n",
       "        [0.7187, 0.2813],\n",
       "        [0.2060, 0.7940],\n",
       "        [0.3475, 0.6525],\n",
       "        [0.6537, 0.3463],\n",
       "        [0.0635, 0.9365],\n",
       "        [0.1399, 0.8601],\n",
       "        [0.2834, 0.7166],\n",
       "        [0.4406, 0.5594],\n",
       "        [0.1591, 0.8409],\n",
       "        [0.2246, 0.7754],\n",
       "        [0.3684, 0.6316],\n",
       "        [0.6004, 0.3996],\n",
       "        [0.9094, 0.0906],\n",
       "        [0.9016, 0.0984],\n",
       "        [0.8656, 0.1344],\n",
       "        [0.9190, 0.0810],\n",
       "        [0.1214, 0.8786],\n",
       "        [0.2658, 0.7342],\n",
       "        [0.8041, 0.1959],\n",
       "        [0.8138, 0.1862],\n",
       "        [0.1618, 0.8382],\n",
       "        [0.4217, 0.5783],\n",
       "        [0.3374, 0.6626],\n",
       "        [0.5551, 0.4449],\n",
       "        [0.3113, 0.6887],\n",
       "        [0.2072, 0.7928],\n",
       "        [0.1812, 0.8188],\n",
       "        [0.7362, 0.2638],\n",
       "        [0.8474, 0.1526],\n",
       "        [0.9356, 0.0644],\n",
       "        [0.0984, 0.9016],\n",
       "        [0.0271, 0.9729],\n",
       "        [0.5799, 0.4201],\n",
       "        [0.2682, 0.7318],\n",
       "        [0.1450, 0.8550],\n",
       "        [0.3444, 0.6556],\n",
       "        [0.3994, 0.6006],\n",
       "        [0.5885, 0.4115],\n",
       "        [0.8648, 0.1352],\n",
       "        [0.7653, 0.2347],\n",
       "        [0.5462, 0.4538],\n",
       "        [0.1998, 0.8002],\n",
       "        [0.5228, 0.4772],\n",
       "        [0.3247, 0.6753],\n",
       "        [0.8958, 0.1042],\n",
       "        [0.1811, 0.8189],\n",
       "        [0.7918, 0.2082],\n",
       "        [0.3984, 0.6016],\n",
       "        [0.7843, 0.2157],\n",
       "        [0.1727, 0.8273],\n",
       "        [0.6357, 0.3643],\n",
       "        [0.0283, 0.9717],\n",
       "        [0.9807, 0.0193],\n",
       "        [0.3738, 0.6262],\n",
       "        [0.7002, 0.2998]])"
      ]
     },
     "execution_count": 23,
     "metadata": {},
     "output_type": "execute_result"
    }
   ],
   "source": [
    "m = nn.Softmax(dim=-1)\n",
    "output = m(input)\n",
    "output"
   ]
  },
  {
   "cell_type": "code",
   "execution_count": null,
   "id": "8ea8f489-73a0-405a-b0de-05bc6cba76ef",
   "metadata": {},
   "outputs": [],
   "source": []
  }
 ],
 "metadata": {
  "kernelspec": {
   "display_name": "Python 3 (ipykernel)",
   "language": "python",
   "name": "python3"
  },
  "language_info": {
   "codemirror_mode": {
    "name": "ipython",
    "version": 3
   },
   "file_extension": ".py",
   "mimetype": "text/x-python",
   "name": "python",
   "nbconvert_exporter": "python",
   "pygments_lexer": "ipython3",
   "version": "3.9.7"
  }
 },
 "nbformat": 4,
 "nbformat_minor": 5
}
