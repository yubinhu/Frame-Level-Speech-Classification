{
 "cells": [
  {
   "cell_type": "markdown",
   "id": "5edbe6bb-184f-4173-a902-5cf309a312ea",
   "metadata": {},
   "source": [
    "# Producing test results"
   ]
  },
  {
   "cell_type": "code",
   "execution_count": 29,
   "id": "0449e4ac-33f5-47b0-8611-31ef78d82129",
   "metadata": {},
   "outputs": [],
   "source": [
    "import numpy as np\n",
    "import torch\n",
    "import torch.nn as nn\n",
    "import matplotlib.pyplot as plt\n",
    "import torch.nn.functional as F\n",
    "import time\n",
    "import torch.optim as optim\n",
    "\n",
    "from torch.utils import data"
   ]
  },
  {
   "cell_type": "code",
   "execution_count": 42,
   "id": "7be97da0-d886-4de9-abb1-de840d7a738a",
   "metadata": {},
   "outputs": [],
   "source": [
    "class Simple_MLP(nn.Module):\n",
    "    def __init__(self, size_list):\n",
    "        super(Simple_MLP, self).__init__()\n",
    "        layers = []\n",
    "        self.size_list = size_list\n",
    "        for i in range(len(size_list) - 2):\n",
    "            layers.append(nn.Linear(size_list[i],size_list[i+1]))\n",
    "            layers.append(nn.ReLU())\n",
    "        layers.append(nn.Linear(size_list[-2], size_list[-1]))\n",
    "        self.net = nn.Sequential(*layers)\n",
    "        self.softmax = nn.Softmax(dim=-1)\n",
    "\n",
    "    def forward(self, x):\n",
    "        y = self.net(x)\n",
    "        out = self.softmax(y)\n",
    "        return out"
   ]
  },
  {
   "cell_type": "code",
   "execution_count": 43,
   "id": "e23f73f8-32d1-49e7-b0cc-7bc9bd39ff52",
   "metadata": {},
   "outputs": [
    {
     "data": {
      "text/plain": [
       "<All keys matched successfully>"
      ]
     },
     "execution_count": 43,
     "metadata": {},
     "output_type": "execute_result"
    }
   ],
   "source": [
    "context_size = 10\n",
    "model = Simple_MLP([40*(2*context_size+1), 256, 128, 71])\n",
    "state_dict = torch.load(\"Models/\"+\"Trial6Epoch30.pth\", map_location=torch.device('cpu'))\n",
    "model.load_state_dict(state_dict)"
   ]
  },
  {
   "cell_type": "code",
   "execution_count": 80,
   "id": "d12138c2-ab1e-429d-aac7-56ae4bf43bb2",
   "metadata": {},
   "outputs": [],
   "source": [
    "input_data = np.load(\"Data/test.npy\", allow_pickle=True)\n",
    "\n",
    "# fake label generation\n",
    "fake_labels = []\n",
    "for i in range(len(input_data)):\n",
    "    shape = input_data[i].shape\n",
    "    fake_labels.append(np.zeros(shape[0]))"
   ]
  },
  {
   "cell_type": "code",
   "execution_count": 81,
   "id": "5808458a-16fa-414b-9277-019fc19daa00",
   "metadata": {},
   "outputs": [
    {
     "name": "stdout",
     "output_type": "stream",
     "text": [
      "(1402, 40)\n"
     ]
    }
   ],
   "source": [
    "print(shape)"
   ]
  },
  {
   "cell_type": "code",
   "execution_count": 83,
   "id": "5b535cdd-dbd5-4c0b-9e6e-ebcf0764f80a",
   "metadata": {},
   "outputs": [
    {
     "data": {
      "text/plain": [
       "(363,)"
      ]
     },
     "execution_count": 83,
     "metadata": {},
     "output_type": "execute_result"
    }
   ],
   "source": [
    "fake_labels[1].shape"
   ]
  },
  {
   "cell_type": "code",
   "execution_count": 84,
   "id": "995a8901-9e12-4081-99be-5797538d7578",
   "metadata": {},
   "outputs": [],
   "source": [
    "from dataset import MyDataset"
   ]
  },
  {
   "cell_type": "code",
   "execution_count": 85,
   "id": "d1a8b924-c02a-493d-8f5f-ebbb94f8529a",
   "metadata": {},
   "outputs": [],
   "source": [
    "input_dataset = MyDataset(input_data, fake_labels, context_size = context_size)\n",
    "loader_args = dict(shuffle=False, batch_size=1, pin_memory=True)\n",
    "loader = data.DataLoader(input_dataset, **loader_args)"
   ]
  },
  {
   "cell_type": "code",
   "execution_count": null,
   "id": "123c44bb-3dc8-42e1-a88f-9402fa0b3498",
   "metadata": {},
   "outputs": [],
   "source": []
  },
  {
   "cell_type": "code",
   "execution_count": 90,
   "id": "1ef06402-960e-4fca-b9c1-f1fe94980bb7",
   "metadata": {},
   "outputs": [],
   "source": [
    "def test_model(model, loader):\n",
    "    fields = [\"id\", \"label\"]\n",
    "    rows = []\n",
    "    with torch.no_grad():\n",
    "        model.eval()\n",
    "        input_id = 0\n",
    "        for batch_idx, (data, target) in enumerate(loader):   \n",
    "            outputs = model(data)\n",
    "\n",
    "            _, predicted = torch.max(outputs.data, 1)\n",
    "            rows.append([input_id, predicted.item()])\n",
    "            input_id += 1\n",
    "        return fields, rows"
   ]
  },
  {
   "cell_type": "code",
   "execution_count": 92,
   "id": "0ef1ba92-8735-4e20-8f09-0527dc5c367b",
   "metadata": {},
   "outputs": [],
   "source": [
    "fields, rows = test_model(model, loader)"
   ]
  },
  {
   "cell_type": "code",
   "execution_count": 93,
   "id": "e9b7c6c6-4b89-414d-81ec-e4be388c3016",
   "metadata": {},
   "outputs": [],
   "source": [
    "import csv\n",
    "with open('Data/out.csv', 'w') as f:\n",
    "      \n",
    "    # using csv.writer method from CSV package\n",
    "    write = csv.writer(f)\n",
    "      \n",
    "    write.writerow(fields)\n",
    "    write.writerows(rows)"
   ]
  },
  {
   "cell_type": "code",
   "execution_count": null,
   "id": "4e9b885a-f3f2-436f-8f16-862c5d7d21e2",
   "metadata": {},
   "outputs": [],
   "source": []
  }
 ],
 "metadata": {
  "kernelspec": {
   "display_name": "Python 3 (ipykernel)",
   "language": "python",
   "name": "python3"
  },
  "language_info": {
   "codemirror_mode": {
    "name": "ipython",
    "version": 3
   },
   "file_extension": ".py",
   "mimetype": "text/x-python",
   "name": "python",
   "nbconvert_exporter": "python",
   "pygments_lexer": "ipython3",
   "version": "3.9.7"
  },
  "toc-autonumbering": false
 },
 "nbformat": 4,
 "nbformat_minor": 5
}
